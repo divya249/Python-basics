{
 "cells": [
  {
   "cell_type": "markdown",
   "id": "fbaf0ca8",
   "metadata": {},
   "source": [
    "# pandas"
   ]
  },
  {
   "cell_type": "code",
   "execution_count": 1,
   "id": "369b0557",
   "metadata": {},
   "outputs": [
    {
     "name": "stdout",
     "output_type": "stream",
     "text": [
      "Requirement already satisfied: pandas in c:\\users\\divi\\anaconda3\\lib\\site-packages (1.4.4)\n",
      "Requirement already satisfied: pytz>=2020.1 in c:\\users\\divi\\anaconda3\\lib\\site-packages (from pandas) (2022.1)\n",
      "Requirement already satisfied: python-dateutil>=2.8.1 in c:\\users\\divi\\anaconda3\\lib\\site-packages (from pandas) (2.8.2)\n",
      "Requirement already satisfied: numpy>=1.18.5 in c:\\users\\divi\\anaconda3\\lib\\site-packages (from pandas) (1.26.1)\n",
      "Requirement already satisfied: six>=1.5 in c:\\users\\divi\\anaconda3\\lib\\site-packages (from python-dateutil>=2.8.1->pandas) (1.16.0)\n"
     ]
    },
    {
     "name": "stderr",
     "output_type": "stream",
     "text": [
      "WARNING: Ignoring invalid distribution -pencv-python (c:\\users\\divi\\appdata\\roaming\\python\\python39\\site-packages)\n",
      "WARNING: Ignoring invalid distribution -pencv-python (c:\\users\\divi\\appdata\\roaming\\python\\python39\\site-packages)\n",
      "WARNING: Ignoring invalid distribution -pencv-python (c:\\users\\divi\\appdata\\roaming\\python\\python39\\site-packages)\n",
      "WARNING: Ignoring invalid distribution -pencv-python (c:\\users\\divi\\appdata\\roaming\\python\\python39\\site-packages)\n",
      "WARNING: Ignoring invalid distribution -pencv-python (c:\\users\\divi\\appdata\\roaming\\python\\python39\\site-packages)\n",
      "WARNING: Ignoring invalid distribution -pencv-python (c:\\users\\divi\\appdata\\roaming\\python\\python39\\site-packages)\n"
     ]
    }
   ],
   "source": [
    "# install pandas\n",
    "\n",
    "!pip install pandas"
   ]
  },
  {
   "cell_type": "code",
   "execution_count": 3,
   "id": "9795da20",
   "metadata": {},
   "outputs": [],
   "source": [
    "import pandas as pd"
   ]
  },
  {
   "cell_type": "code",
   "execution_count": 46,
   "id": "3008dce1",
   "metadata": {},
   "outputs": [],
   "source": [
    "# create data\n",
    "\n",
    "\n",
    "data={'fruits':['apple','orange','watermelon','banana'],\n",
    "     'rate':[150,200,120,60]\n",
    "     }\n"
   ]
  },
  {
   "cell_type": "code",
   "execution_count": 47,
   "id": "2f0b567c",
   "metadata": {},
   "outputs": [],
   "source": [
    "# convert data into dataframe\n",
    "\n",
    "x=pd.DataFrame(data)"
   ]
  },
  {
   "cell_type": "code",
   "execution_count": 48,
   "id": "88bd01ca",
   "metadata": {},
   "outputs": [
    {
     "name": "stdout",
     "output_type": "stream",
     "text": [
      "       fruits  rate\n",
      "0       apple   150\n",
      "1      orange   200\n",
      "2  watermelon   120\n",
      "3      banana    60\n"
     ]
    }
   ],
   "source": [
    "print(x)"
   ]
  },
  {
   "cell_type": "markdown",
   "id": "aa28683a",
   "metadata": {},
   "source": [
    "# pandas series"
   ]
  },
  {
   "cell_type": "code",
   "execution_count": 17,
   "id": "69c02566",
   "metadata": {},
   "outputs": [],
   "source": [
    "import pandas as pd"
   ]
  },
  {
   "cell_type": "code",
   "execution_count": 18,
   "id": "adb06ecf",
   "metadata": {},
   "outputs": [],
   "source": [
    "a=[1,2,3,4,5,6,7,8,9]"
   ]
  },
  {
   "cell_type": "code",
   "execution_count": 21,
   "id": "bcc579e3",
   "metadata": {},
   "outputs": [
    {
     "name": "stdout",
     "output_type": "stream",
     "text": [
      "0    1\n",
      "1    2\n",
      "2    3\n",
      "3    4\n",
      "4    5\n",
      "5    6\n",
      "6    7\n",
      "7    8\n",
      "8    9\n",
      "dtype: int64\n"
     ]
    }
   ],
   "source": [
    "# how to find numbers series\n",
    "print(pd.Series(a))"
   ]
  },
  {
   "cell_type": "code",
   "execution_count": 22,
   "id": "8d1cb146",
   "metadata": {},
   "outputs": [
    {
     "name": "stdout",
     "output_type": "stream",
     "text": [
      "0    3\n",
      "dtype: int64\n"
     ]
    }
   ],
   "source": [
    "# how to find specific numbers and exact index\n",
    "print(pd.Series(a[2]))"
   ]
  },
  {
   "cell_type": "code",
   "execution_count": 23,
   "id": "21fa8a0d",
   "metadata": {},
   "outputs": [],
   "source": [
    "car=['audi','bmw','tata']"
   ]
  },
  {
   "cell_type": "code",
   "execution_count": 27,
   "id": "a9634dff",
   "metadata": {},
   "outputs": [
    {
     "name": "stdout",
     "output_type": "stream",
     "text": [
      "x    audi\n",
      "y     bmw\n",
      "z    tata\n",
      "dtype: object\n"
     ]
    }
   ],
   "source": [
    "print(pd.Series(car,index=['x','y','z']))"
   ]
  },
  {
   "cell_type": "code",
   "execution_count": 28,
   "id": "7622d61b",
   "metadata": {},
   "outputs": [],
   "source": [
    "# how to create dictionary in pandas\n",
    "\n",
    "\n",
    "weightloss={'day1':85,\n",
    "           'day2':83.23,\n",
    "           'day3':82.56,\n",
    "           'day4':80.79,\n",
    "           'day5':80}"
   ]
  },
  {
   "cell_type": "code",
   "execution_count": 31,
   "id": "905d0051",
   "metadata": {},
   "outputs": [
    {
     "name": "stdout",
     "output_type": "stream",
     "text": [
      "day1    85.00\n",
      "day2    83.23\n",
      "day3    82.56\n",
      "day4    80.79\n",
      "day5    80.00\n",
      "dtype: float64\n"
     ]
    }
   ],
   "source": [
    "print(pd.Series(weightloss))"
   ]
  },
  {
   "cell_type": "code",
   "execution_count": 34,
   "id": "57cd152f",
   "metadata": {},
   "outputs": [
    {
     "name": "stdout",
     "output_type": "stream",
     "text": [
      "weightloss journey of day3    82.56\n",
      "dtype: float64\n"
     ]
    }
   ],
   "source": [
    "print('weightloss journey of',pd.Series(weightloss,index=['day3']))"
   ]
  },
  {
   "cell_type": "markdown",
   "id": "8cf16a10",
   "metadata": {},
   "source": [
    "# pandas dataframe"
   ]
  },
  {
   "cell_type": "code",
   "execution_count": 35,
   "id": "086e9eff",
   "metadata": {},
   "outputs": [],
   "source": [
    "import pandas as pd"
   ]
  },
  {
   "cell_type": "code",
   "execution_count": 36,
   "id": "8a87b1de",
   "metadata": {},
   "outputs": [],
   "source": [
    "# pandas dataframe-dimension 0,1,2,3"
   ]
  },
  {
   "cell_type": "code",
   "execution_count": 60,
   "id": "df43a75f",
   "metadata": {},
   "outputs": [],
   "source": [
    "data={'calories':[210,234,456,670],\n",
    "     'duration':[60,30,20,10]}"
   ]
  },
  {
   "cell_type": "code",
   "execution_count": 61,
   "id": "a192e4a5",
   "metadata": {},
   "outputs": [],
   "source": [
    "df=pd.DataFrame(data)"
   ]
  },
  {
   "cell_type": "code",
   "execution_count": 62,
   "id": "3e92fae2",
   "metadata": {},
   "outputs": [
    {
     "data": {
      "text/html": [
       "<div>\n",
       "<style scoped>\n",
       "    .dataframe tbody tr th:only-of-type {\n",
       "        vertical-align: middle;\n",
       "    }\n",
       "\n",
       "    .dataframe tbody tr th {\n",
       "        vertical-align: top;\n",
       "    }\n",
       "\n",
       "    .dataframe thead th {\n",
       "        text-align: right;\n",
       "    }\n",
       "</style>\n",
       "<table border=\"1\" class=\"dataframe\">\n",
       "  <thead>\n",
       "    <tr style=\"text-align: right;\">\n",
       "      <th></th>\n",
       "      <th>calories</th>\n",
       "      <th>duration</th>\n",
       "    </tr>\n",
       "  </thead>\n",
       "  <tbody>\n",
       "    <tr>\n",
       "      <th>0</th>\n",
       "      <td>210</td>\n",
       "      <td>60</td>\n",
       "    </tr>\n",
       "    <tr>\n",
       "      <th>1</th>\n",
       "      <td>234</td>\n",
       "      <td>30</td>\n",
       "    </tr>\n",
       "    <tr>\n",
       "      <th>2</th>\n",
       "      <td>456</td>\n",
       "      <td>20</td>\n",
       "    </tr>\n",
       "    <tr>\n",
       "      <th>3</th>\n",
       "      <td>670</td>\n",
       "      <td>10</td>\n",
       "    </tr>\n",
       "  </tbody>\n",
       "</table>\n",
       "</div>"
      ],
      "text/plain": [
       "   calories  duration\n",
       "0       210        60\n",
       "1       234        30\n",
       "2       456        20\n",
       "3       670        10"
      ]
     },
     "execution_count": 62,
     "metadata": {},
     "output_type": "execute_result"
    }
   ],
   "source": [
    "df"
   ]
  },
  {
   "cell_type": "code",
   "execution_count": 63,
   "id": "cc23b55d",
   "metadata": {},
   "outputs": [
    {
     "name": "stdout",
     "output_type": "stream",
     "text": [
      "calories    234\n",
      "duration     30\n",
      "Name: 1, dtype: int64\n"
     ]
    }
   ],
   "source": [
    "# find location\n",
    "\n",
    "print(df.loc[1])"
   ]
  },
  {
   "cell_type": "code",
   "execution_count": 64,
   "id": "2fe2ac78",
   "metadata": {},
   "outputs": [
    {
     "name": "stdout",
     "output_type": "stream",
     "text": [
      "calories    210\n",
      "duration     60\n",
      "Name: 0, dtype: int64\n"
     ]
    }
   ],
   "source": [
    "print(df.loc[0])"
   ]
  },
  {
   "cell_type": "code",
   "execution_count": 65,
   "id": "6403caf4",
   "metadata": {},
   "outputs": [
    {
     "name": "stdout",
     "output_type": "stream",
     "text": [
      "   calories  duration\n",
      "0       210        60\n",
      "1       234        30\n"
     ]
    }
   ],
   "source": [
    "print(df.loc[[0,1]])"
   ]
  },
  {
   "cell_type": "code",
   "execution_count": 66,
   "id": "0056ea82",
   "metadata": {},
   "outputs": [
    {
     "name": "stdout",
     "output_type": "stream",
     "text": [
      "      calories  duration\n",
      "day1       210        60\n",
      "day2       234        30\n",
      "day3       456        20\n",
      "day4       670        10\n"
     ]
    }
   ],
   "source": [
    "print(pd.DataFrame(data,index=['day1','day2','day3','day4']))"
   ]
  },
  {
   "cell_type": "markdown",
   "id": "5cd9879c",
   "metadata": {},
   "source": [
    "# pandas read  files"
   ]
  },
  {
   "cell_type": "code",
   "execution_count": 67,
   "id": "9d6b74ec",
   "metadata": {},
   "outputs": [],
   "source": [
    "import pandas as pd"
   ]
  },
  {
   "cell_type": "code",
   "execution_count": 68,
   "id": "34c20874",
   "metadata": {},
   "outputs": [],
   "source": [
    "df=pd.read_csv(\"C:\\\\Users\\\\divi\\\\Downloads\\\\Customers.csv\")"
   ]
  },
  {
   "cell_type": "code",
   "execution_count": 73,
   "id": "43ce8061",
   "metadata": {},
   "outputs": [
    {
     "name": "stdout",
     "output_type": "stream",
     "text": [
      "       customer_id  customer_acct_num first_name  last_name  \\\n",
      "0                1        87462024688      Sheri     Nowmer   \n",
      "1                2        87470586299    Derrick    Whelply   \n",
      "2                3        87475757600     Jeanne      Derry   \n",
      "3                4        87500482201    Michael     Spence   \n",
      "4                5        87514054179       Maya  Gutierrez   \n",
      "...            ...                ...        ...        ...   \n",
      "10276        10277        87439274191       Fran       Ross   \n",
      "10277        10278        87448420500     Myreda    Calahoo   \n",
      "10278        10279        87453135848       Mary      Ayers   \n",
      "10279        10280        87458639740     Ernest     Aiello   \n",
      "10280        10281        87460163235     Samuel    Cartney   \n",
      "\n",
      "            customer_address  customer_city customer_state_province  \\\n",
      "0           2433 Bailey Road       Tlaxiaco                  Oaxaca   \n",
      "1         2219 Dewing Avenue          Sooke                      BC   \n",
      "2            7640 First Ave.       Issaquah                      WA   \n",
      "3              337 Tosca Way        Burnaby                      BC   \n",
      "4            8668 Via Neruda         Novato                      CA   \n",
      "...                      ...            ...                     ...   \n",
      "10276  5603 Blackridge Drive    Lake Oswego                      OR   \n",
      "10277      263 La Orinda Pl.   N. Vancouver                      BC   \n",
      "10278            6885 Auburn  Lincoln Acres                      CA   \n",
      "10279       5077 Bannock Ct.       Puyallup                      WA   \n",
      "10280     4609 Parkway Drive      Vancouver                      BC   \n",
      "\n",
      "       customer_postal_code customer_country  birthdate marital_status  \\\n",
      "0                     15057           Mexico  8/26/1961              M   \n",
      "1                     17172           Canada   7/3/1915              S   \n",
      "2                     73980              USA  6/21/1910              M   \n",
      "3                     74674           Canada  6/20/1969              M   \n",
      "4                     57355              USA  5/10/1951              S   \n",
      "...                     ...              ...        ...            ...   \n",
      "10276                 52724              USA   2/9/1974              M   \n",
      "10277                 71758           Canada  12/8/1926              M   \n",
      "10278                 42550              USA  5/18/1913              S   \n",
      "10279                 27746              USA   9/6/1968              M   \n",
      "10280                 63699           Canada   7/6/1914              S   \n",
      "\n",
      "       yearly_income gender  total_children  num_children_at_home  \\\n",
      "0        $30K - $50K      F               4                     2   \n",
      "1        $70K - $90K      M               1                     0   \n",
      "2        $50K - $70K      F               1                     1   \n",
      "3        $10K - $30K      M               4                     4   \n",
      "4        $30K - $50K      F               3                     0   \n",
      "...              ...    ...             ...                   ...   \n",
      "10276   $90K - $110K      M               4                     3   \n",
      "10277    $30K - $50K      F               0                     0   \n",
      "10278  $130K - $150K      M               3                     0   \n",
      "10279        $150K +      F               5                     2   \n",
      "10280    $50K - $70K      F               5                     0   \n",
      "\n",
      "                 education acct_open_date member_card      occupation  \\\n",
      "0      Partial High School      9/10/1991      Bronze  Skilled Manual   \n",
      "1      Partial High School      3/11/1993      Bronze    Professional   \n",
      "2         Bachelors Degree      6/11/1991      Bronze    Professional   \n",
      "3      Partial High School      5/21/1994      Normal  Skilled Manual   \n",
      "4          Partial College      8/21/1992      Silver          Manual   \n",
      "...                    ...            ...         ...             ...   \n",
      "10276  Partial High School      3/14/1991      Bronze      Management   \n",
      "10277      Partial College      3/20/1992      Bronze    Professional   \n",
      "10278  Partial High School     11/22/1991      Bronze      Management   \n",
      "10279   High School Degree      5/26/1991      Golden    Professional   \n",
      "10280     Bachelors Degree      7/22/1993      Bronze      Management   \n",
      "\n",
      "      homeowner  \n",
      "0             Y  \n",
      "1             N  \n",
      "2             Y  \n",
      "3             N  \n",
      "4             N  \n",
      "...         ...  \n",
      "10276         N  \n",
      "10277         N  \n",
      "10278         Y  \n",
      "10279         Y  \n",
      "10280         N  \n",
      "\n",
      "[10281 rows x 20 columns]\n"
     ]
    }
   ],
   "source": [
    "print(df)"
   ]
  },
  {
   "cell_type": "code",
   "execution_count": 82,
   "id": "3ff8e47c",
   "metadata": {},
   "outputs": [
    {
     "name": "stdout",
     "output_type": "stream",
     "text": [
      "<class 'pandas.core.frame.DataFrame'>\n"
     ]
    }
   ],
   "source": [
    "print(type(df))"
   ]
  },
  {
   "cell_type": "code",
   "execution_count": 83,
   "id": "4da31bb5",
   "metadata": {},
   "outputs": [
    {
     "data": {
      "text/html": [
       "<div>\n",
       "<style scoped>\n",
       "    .dataframe tbody tr th:only-of-type {\n",
       "        vertical-align: middle;\n",
       "    }\n",
       "\n",
       "    .dataframe tbody tr th {\n",
       "        vertical-align: top;\n",
       "    }\n",
       "\n",
       "    .dataframe thead th {\n",
       "        text-align: right;\n",
       "    }\n",
       "</style>\n",
       "<table border=\"1\" class=\"dataframe\">\n",
       "  <thead>\n",
       "    <tr style=\"text-align: right;\">\n",
       "      <th></th>\n",
       "      <th>customer_id</th>\n",
       "      <th>customer_acct_num</th>\n",
       "      <th>first_name</th>\n",
       "      <th>last_name</th>\n",
       "      <th>customer_address</th>\n",
       "      <th>customer_city</th>\n",
       "      <th>customer_state_province</th>\n",
       "      <th>customer_postal_code</th>\n",
       "      <th>customer_country</th>\n",
       "      <th>birthdate</th>\n",
       "      <th>marital_status</th>\n",
       "      <th>yearly_income</th>\n",
       "      <th>gender</th>\n",
       "      <th>total_children</th>\n",
       "      <th>num_children_at_home</th>\n",
       "      <th>education</th>\n",
       "      <th>acct_open_date</th>\n",
       "      <th>member_card</th>\n",
       "      <th>occupation</th>\n",
       "      <th>homeowner</th>\n",
       "    </tr>\n",
       "  </thead>\n",
       "  <tbody>\n",
       "    <tr>\n",
       "      <th>0</th>\n",
       "      <td>1</td>\n",
       "      <td>87462024688</td>\n",
       "      <td>Sheri</td>\n",
       "      <td>Nowmer</td>\n",
       "      <td>2433 Bailey Road</td>\n",
       "      <td>Tlaxiaco</td>\n",
       "      <td>Oaxaca</td>\n",
       "      <td>15057</td>\n",
       "      <td>Mexico</td>\n",
       "      <td>8/26/1961</td>\n",
       "      <td>M</td>\n",
       "      <td>$30K - $50K</td>\n",
       "      <td>F</td>\n",
       "      <td>4</td>\n",
       "      <td>2</td>\n",
       "      <td>Partial High School</td>\n",
       "      <td>9/10/1991</td>\n",
       "      <td>Bronze</td>\n",
       "      <td>Skilled Manual</td>\n",
       "      <td>Y</td>\n",
       "    </tr>\n",
       "    <tr>\n",
       "      <th>1</th>\n",
       "      <td>2</td>\n",
       "      <td>87470586299</td>\n",
       "      <td>Derrick</td>\n",
       "      <td>Whelply</td>\n",
       "      <td>2219 Dewing Avenue</td>\n",
       "      <td>Sooke</td>\n",
       "      <td>BC</td>\n",
       "      <td>17172</td>\n",
       "      <td>Canada</td>\n",
       "      <td>7/3/1915</td>\n",
       "      <td>S</td>\n",
       "      <td>$70K - $90K</td>\n",
       "      <td>M</td>\n",
       "      <td>1</td>\n",
       "      <td>0</td>\n",
       "      <td>Partial High School</td>\n",
       "      <td>3/11/1993</td>\n",
       "      <td>Bronze</td>\n",
       "      <td>Professional</td>\n",
       "      <td>N</td>\n",
       "    </tr>\n",
       "    <tr>\n",
       "      <th>2</th>\n",
       "      <td>3</td>\n",
       "      <td>87475757600</td>\n",
       "      <td>Jeanne</td>\n",
       "      <td>Derry</td>\n",
       "      <td>7640 First Ave.</td>\n",
       "      <td>Issaquah</td>\n",
       "      <td>WA</td>\n",
       "      <td>73980</td>\n",
       "      <td>USA</td>\n",
       "      <td>6/21/1910</td>\n",
       "      <td>M</td>\n",
       "      <td>$50K - $70K</td>\n",
       "      <td>F</td>\n",
       "      <td>1</td>\n",
       "      <td>1</td>\n",
       "      <td>Bachelors Degree</td>\n",
       "      <td>6/11/1991</td>\n",
       "      <td>Bronze</td>\n",
       "      <td>Professional</td>\n",
       "      <td>Y</td>\n",
       "    </tr>\n",
       "    <tr>\n",
       "      <th>3</th>\n",
       "      <td>4</td>\n",
       "      <td>87500482201</td>\n",
       "      <td>Michael</td>\n",
       "      <td>Spence</td>\n",
       "      <td>337 Tosca Way</td>\n",
       "      <td>Burnaby</td>\n",
       "      <td>BC</td>\n",
       "      <td>74674</td>\n",
       "      <td>Canada</td>\n",
       "      <td>6/20/1969</td>\n",
       "      <td>M</td>\n",
       "      <td>$10K - $30K</td>\n",
       "      <td>M</td>\n",
       "      <td>4</td>\n",
       "      <td>4</td>\n",
       "      <td>Partial High School</td>\n",
       "      <td>5/21/1994</td>\n",
       "      <td>Normal</td>\n",
       "      <td>Skilled Manual</td>\n",
       "      <td>N</td>\n",
       "    </tr>\n",
       "    <tr>\n",
       "      <th>4</th>\n",
       "      <td>5</td>\n",
       "      <td>87514054179</td>\n",
       "      <td>Maya</td>\n",
       "      <td>Gutierrez</td>\n",
       "      <td>8668 Via Neruda</td>\n",
       "      <td>Novato</td>\n",
       "      <td>CA</td>\n",
       "      <td>57355</td>\n",
       "      <td>USA</td>\n",
       "      <td>5/10/1951</td>\n",
       "      <td>S</td>\n",
       "      <td>$30K - $50K</td>\n",
       "      <td>F</td>\n",
       "      <td>3</td>\n",
       "      <td>0</td>\n",
       "      <td>Partial College</td>\n",
       "      <td>8/21/1992</td>\n",
       "      <td>Silver</td>\n",
       "      <td>Manual</td>\n",
       "      <td>N</td>\n",
       "    </tr>\n",
       "  </tbody>\n",
       "</table>\n",
       "</div>"
      ],
      "text/plain": [
       "   customer_id  customer_acct_num first_name  last_name    customer_address  \\\n",
       "0            1        87462024688      Sheri     Nowmer    2433 Bailey Road   \n",
       "1            2        87470586299    Derrick    Whelply  2219 Dewing Avenue   \n",
       "2            3        87475757600     Jeanne      Derry     7640 First Ave.   \n",
       "3            4        87500482201    Michael     Spence       337 Tosca Way   \n",
       "4            5        87514054179       Maya  Gutierrez     8668 Via Neruda   \n",
       "\n",
       "  customer_city customer_state_province  customer_postal_code  \\\n",
       "0      Tlaxiaco                  Oaxaca                 15057   \n",
       "1         Sooke                      BC                 17172   \n",
       "2      Issaquah                      WA                 73980   \n",
       "3       Burnaby                      BC                 74674   \n",
       "4        Novato                      CA                 57355   \n",
       "\n",
       "  customer_country  birthdate marital_status yearly_income gender  \\\n",
       "0           Mexico  8/26/1961              M   $30K - $50K      F   \n",
       "1           Canada   7/3/1915              S   $70K - $90K      M   \n",
       "2              USA  6/21/1910              M   $50K - $70K      F   \n",
       "3           Canada  6/20/1969              M   $10K - $30K      M   \n",
       "4              USA  5/10/1951              S   $30K - $50K      F   \n",
       "\n",
       "   total_children  num_children_at_home            education acct_open_date  \\\n",
       "0               4                     2  Partial High School      9/10/1991   \n",
       "1               1                     0  Partial High School      3/11/1993   \n",
       "2               1                     1     Bachelors Degree      6/11/1991   \n",
       "3               4                     4  Partial High School      5/21/1994   \n",
       "4               3                     0      Partial College      8/21/1992   \n",
       "\n",
       "  member_card      occupation homeowner  \n",
       "0      Bronze  Skilled Manual         Y  \n",
       "1      Bronze    Professional         N  \n",
       "2      Bronze    Professional         Y  \n",
       "3      Normal  Skilled Manual         N  \n",
       "4      Silver          Manual         N  "
      ]
     },
     "execution_count": 83,
     "metadata": {},
     "output_type": "execute_result"
    }
   ],
   "source": [
    "# print top 5 data row\n",
    "df.head()"
   ]
  },
  {
   "cell_type": "code",
   "execution_count": 84,
   "id": "46fc1f32",
   "metadata": {},
   "outputs": [
    {
     "data": {
      "text/html": [
       "<div>\n",
       "<style scoped>\n",
       "    .dataframe tbody tr th:only-of-type {\n",
       "        vertical-align: middle;\n",
       "    }\n",
       "\n",
       "    .dataframe tbody tr th {\n",
       "        vertical-align: top;\n",
       "    }\n",
       "\n",
       "    .dataframe thead th {\n",
       "        text-align: right;\n",
       "    }\n",
       "</style>\n",
       "<table border=\"1\" class=\"dataframe\">\n",
       "  <thead>\n",
       "    <tr style=\"text-align: right;\">\n",
       "      <th></th>\n",
       "      <th>customer_id</th>\n",
       "      <th>customer_acct_num</th>\n",
       "      <th>first_name</th>\n",
       "      <th>last_name</th>\n",
       "      <th>customer_address</th>\n",
       "      <th>customer_city</th>\n",
       "      <th>customer_state_province</th>\n",
       "      <th>customer_postal_code</th>\n",
       "      <th>customer_country</th>\n",
       "      <th>birthdate</th>\n",
       "      <th>marital_status</th>\n",
       "      <th>yearly_income</th>\n",
       "      <th>gender</th>\n",
       "      <th>total_children</th>\n",
       "      <th>num_children_at_home</th>\n",
       "      <th>education</th>\n",
       "      <th>acct_open_date</th>\n",
       "      <th>member_card</th>\n",
       "      <th>occupation</th>\n",
       "      <th>homeowner</th>\n",
       "    </tr>\n",
       "  </thead>\n",
       "  <tbody>\n",
       "    <tr>\n",
       "      <th>10276</th>\n",
       "      <td>10277</td>\n",
       "      <td>87439274191</td>\n",
       "      <td>Fran</td>\n",
       "      <td>Ross</td>\n",
       "      <td>5603 Blackridge Drive</td>\n",
       "      <td>Lake Oswego</td>\n",
       "      <td>OR</td>\n",
       "      <td>52724</td>\n",
       "      <td>USA</td>\n",
       "      <td>2/9/1974</td>\n",
       "      <td>M</td>\n",
       "      <td>$90K - $110K</td>\n",
       "      <td>M</td>\n",
       "      <td>4</td>\n",
       "      <td>3</td>\n",
       "      <td>Partial High School</td>\n",
       "      <td>3/14/1991</td>\n",
       "      <td>Bronze</td>\n",
       "      <td>Management</td>\n",
       "      <td>N</td>\n",
       "    </tr>\n",
       "    <tr>\n",
       "      <th>10277</th>\n",
       "      <td>10278</td>\n",
       "      <td>87448420500</td>\n",
       "      <td>Myreda</td>\n",
       "      <td>Calahoo</td>\n",
       "      <td>263 La Orinda Pl.</td>\n",
       "      <td>N. Vancouver</td>\n",
       "      <td>BC</td>\n",
       "      <td>71758</td>\n",
       "      <td>Canada</td>\n",
       "      <td>12/8/1926</td>\n",
       "      <td>M</td>\n",
       "      <td>$30K - $50K</td>\n",
       "      <td>F</td>\n",
       "      <td>0</td>\n",
       "      <td>0</td>\n",
       "      <td>Partial College</td>\n",
       "      <td>3/20/1992</td>\n",
       "      <td>Bronze</td>\n",
       "      <td>Professional</td>\n",
       "      <td>N</td>\n",
       "    </tr>\n",
       "    <tr>\n",
       "      <th>10278</th>\n",
       "      <td>10279</td>\n",
       "      <td>87453135848</td>\n",
       "      <td>Mary</td>\n",
       "      <td>Ayers</td>\n",
       "      <td>6885 Auburn</td>\n",
       "      <td>Lincoln Acres</td>\n",
       "      <td>CA</td>\n",
       "      <td>42550</td>\n",
       "      <td>USA</td>\n",
       "      <td>5/18/1913</td>\n",
       "      <td>S</td>\n",
       "      <td>$130K - $150K</td>\n",
       "      <td>M</td>\n",
       "      <td>3</td>\n",
       "      <td>0</td>\n",
       "      <td>Partial High School</td>\n",
       "      <td>11/22/1991</td>\n",
       "      <td>Bronze</td>\n",
       "      <td>Management</td>\n",
       "      <td>Y</td>\n",
       "    </tr>\n",
       "    <tr>\n",
       "      <th>10279</th>\n",
       "      <td>10280</td>\n",
       "      <td>87458639740</td>\n",
       "      <td>Ernest</td>\n",
       "      <td>Aiello</td>\n",
       "      <td>5077 Bannock Ct.</td>\n",
       "      <td>Puyallup</td>\n",
       "      <td>WA</td>\n",
       "      <td>27746</td>\n",
       "      <td>USA</td>\n",
       "      <td>9/6/1968</td>\n",
       "      <td>M</td>\n",
       "      <td>$150K +</td>\n",
       "      <td>F</td>\n",
       "      <td>5</td>\n",
       "      <td>2</td>\n",
       "      <td>High School Degree</td>\n",
       "      <td>5/26/1991</td>\n",
       "      <td>Golden</td>\n",
       "      <td>Professional</td>\n",
       "      <td>Y</td>\n",
       "    </tr>\n",
       "    <tr>\n",
       "      <th>10280</th>\n",
       "      <td>10281</td>\n",
       "      <td>87460163235</td>\n",
       "      <td>Samuel</td>\n",
       "      <td>Cartney</td>\n",
       "      <td>4609 Parkway Drive</td>\n",
       "      <td>Vancouver</td>\n",
       "      <td>BC</td>\n",
       "      <td>63699</td>\n",
       "      <td>Canada</td>\n",
       "      <td>7/6/1914</td>\n",
       "      <td>S</td>\n",
       "      <td>$50K - $70K</td>\n",
       "      <td>F</td>\n",
       "      <td>5</td>\n",
       "      <td>0</td>\n",
       "      <td>Bachelors Degree</td>\n",
       "      <td>7/22/1993</td>\n",
       "      <td>Bronze</td>\n",
       "      <td>Management</td>\n",
       "      <td>N</td>\n",
       "    </tr>\n",
       "  </tbody>\n",
       "</table>\n",
       "</div>"
      ],
      "text/plain": [
       "       customer_id  customer_acct_num first_name last_name  \\\n",
       "10276        10277        87439274191       Fran      Ross   \n",
       "10277        10278        87448420500     Myreda   Calahoo   \n",
       "10278        10279        87453135848       Mary     Ayers   \n",
       "10279        10280        87458639740     Ernest    Aiello   \n",
       "10280        10281        87460163235     Samuel   Cartney   \n",
       "\n",
       "            customer_address  customer_city customer_state_province  \\\n",
       "10276  5603 Blackridge Drive    Lake Oswego                      OR   \n",
       "10277      263 La Orinda Pl.   N. Vancouver                      BC   \n",
       "10278            6885 Auburn  Lincoln Acres                      CA   \n",
       "10279       5077 Bannock Ct.       Puyallup                      WA   \n",
       "10280     4609 Parkway Drive      Vancouver                      BC   \n",
       "\n",
       "       customer_postal_code customer_country  birthdate marital_status  \\\n",
       "10276                 52724              USA   2/9/1974              M   \n",
       "10277                 71758           Canada  12/8/1926              M   \n",
       "10278                 42550              USA  5/18/1913              S   \n",
       "10279                 27746              USA   9/6/1968              M   \n",
       "10280                 63699           Canada   7/6/1914              S   \n",
       "\n",
       "       yearly_income gender  total_children  num_children_at_home  \\\n",
       "10276   $90K - $110K      M               4                     3   \n",
       "10277    $30K - $50K      F               0                     0   \n",
       "10278  $130K - $150K      M               3                     0   \n",
       "10279        $150K +      F               5                     2   \n",
       "10280    $50K - $70K      F               5                     0   \n",
       "\n",
       "                 education acct_open_date member_card    occupation homeowner  \n",
       "10276  Partial High School      3/14/1991      Bronze    Management         N  \n",
       "10277      Partial College      3/20/1992      Bronze  Professional         N  \n",
       "10278  Partial High School     11/22/1991      Bronze    Management         Y  \n",
       "10279   High School Degree      5/26/1991      Golden  Professional         Y  \n",
       "10280     Bachelors Degree      7/22/1993      Bronze    Management         N  "
      ]
     },
     "execution_count": 84,
     "metadata": {},
     "output_type": "execute_result"
    }
   ],
   "source": [
    "# print last 5 row\n",
    "\n",
    "df.tail()"
   ]
  },
  {
   "cell_type": "code",
   "execution_count": 87,
   "id": "6a71a63b",
   "metadata": {},
   "outputs": [
    {
     "data": {
      "text/html": [
       "<div>\n",
       "<style scoped>\n",
       "    .dataframe tbody tr th:only-of-type {\n",
       "        vertical-align: middle;\n",
       "    }\n",
       "\n",
       "    .dataframe tbody tr th {\n",
       "        vertical-align: top;\n",
       "    }\n",
       "\n",
       "    .dataframe thead th {\n",
       "        text-align: right;\n",
       "    }\n",
       "</style>\n",
       "<table border=\"1\" class=\"dataframe\">\n",
       "  <thead>\n",
       "    <tr style=\"text-align: right;\">\n",
       "      <th></th>\n",
       "      <th>customer_id</th>\n",
       "      <th>customer_acct_num</th>\n",
       "      <th>first_name</th>\n",
       "      <th>last_name</th>\n",
       "      <th>customer_address</th>\n",
       "      <th>customer_city</th>\n",
       "      <th>customer_state_province</th>\n",
       "      <th>customer_postal_code</th>\n",
       "      <th>customer_country</th>\n",
       "      <th>birthdate</th>\n",
       "      <th>marital_status</th>\n",
       "      <th>yearly_income</th>\n",
       "      <th>gender</th>\n",
       "      <th>total_children</th>\n",
       "      <th>num_children_at_home</th>\n",
       "      <th>education</th>\n",
       "      <th>acct_open_date</th>\n",
       "      <th>member_card</th>\n",
       "      <th>occupation</th>\n",
       "      <th>homeowner</th>\n",
       "    </tr>\n",
       "  </thead>\n",
       "  <tbody>\n",
       "    <tr>\n",
       "      <th>8892</th>\n",
       "      <td>8893</td>\n",
       "      <td>72966326475</td>\n",
       "      <td>John</td>\n",
       "      <td>Bowles</td>\n",
       "      <td>667 Miller Dr.</td>\n",
       "      <td>Downey</td>\n",
       "      <td>CA</td>\n",
       "      <td>33371</td>\n",
       "      <td>USA</td>\n",
       "      <td>11/6/1944</td>\n",
       "      <td>S</td>\n",
       "      <td>$10K - $30K</td>\n",
       "      <td>M</td>\n",
       "      <td>4</td>\n",
       "      <td>0</td>\n",
       "      <td>Partial High School</td>\n",
       "      <td>6/10/1993</td>\n",
       "      <td>Normal</td>\n",
       "      <td>Skilled Manual</td>\n",
       "      <td>N</td>\n",
       "    </tr>\n",
       "  </tbody>\n",
       "</table>\n",
       "</div>"
      ],
      "text/plain": [
       "      customer_id  customer_acct_num first_name last_name customer_address  \\\n",
       "8892         8893        72966326475       John    Bowles   667 Miller Dr.   \n",
       "\n",
       "     customer_city customer_state_province  customer_postal_code  \\\n",
       "8892        Downey                      CA                 33371   \n",
       "\n",
       "     customer_country  birthdate marital_status yearly_income gender  \\\n",
       "8892              USA  11/6/1944              S   $10K - $30K      M   \n",
       "\n",
       "      total_children  num_children_at_home            education  \\\n",
       "8892               4                     0  Partial High School   \n",
       "\n",
       "     acct_open_date member_card      occupation homeowner  \n",
       "8892      6/10/1993      Normal  Skilled Manual         N  "
      ]
     },
     "execution_count": 87,
     "metadata": {},
     "output_type": "execute_result"
    }
   ],
   "source": [
    "# print random data row\n",
    "df.sample()"
   ]
  },
  {
   "cell_type": "code",
   "execution_count": 100,
   "id": "d0d099e7",
   "metadata": {},
   "outputs": [],
   "source": [
    "# read json file\n",
    "import json\n",
    "df1=pd.read_json(\"C:\\\\Users\\\\divi\\\\Downloads\\\\intents.json\")"
   ]
  },
  {
   "cell_type": "code",
   "execution_count": 101,
   "id": "e92c4044",
   "metadata": {},
   "outputs": [
    {
     "data": {
      "text/html": [
       "<div>\n",
       "<style scoped>\n",
       "    .dataframe tbody tr th:only-of-type {\n",
       "        vertical-align: middle;\n",
       "    }\n",
       "\n",
       "    .dataframe tbody tr th {\n",
       "        vertical-align: top;\n",
       "    }\n",
       "\n",
       "    .dataframe thead th {\n",
       "        text-align: right;\n",
       "    }\n",
       "</style>\n",
       "<table border=\"1\" class=\"dataframe\">\n",
       "  <thead>\n",
       "    <tr style=\"text-align: right;\">\n",
       "      <th></th>\n",
       "      <th>intents</th>\n",
       "    </tr>\n",
       "  </thead>\n",
       "  <tbody>\n",
       "    <tr>\n",
       "      <th>0</th>\n",
       "      <td>{'tag': 'greeting', 'patterns': ['Hi', 'How ar...</td>\n",
       "    </tr>\n",
       "    <tr>\n",
       "      <th>1</th>\n",
       "      <td>{'tag': 'goodbye', 'patterns': ['cya', 'see yo...</td>\n",
       "    </tr>\n",
       "    <tr>\n",
       "      <th>2</th>\n",
       "      <td>{'tag': 'creator', 'patterns': ['what is the n...</td>\n",
       "    </tr>\n",
       "    <tr>\n",
       "      <th>3</th>\n",
       "      <td>{'tag': 'name', 'patterns': ['name', 'your nam...</td>\n",
       "    </tr>\n",
       "    <tr>\n",
       "      <th>4</th>\n",
       "      <td>{'tag': 'hours', 'patterns': ['timing of colle...</td>\n",
       "    </tr>\n",
       "  </tbody>\n",
       "</table>\n",
       "</div>"
      ],
      "text/plain": [
       "                                             intents\n",
       "0  {'tag': 'greeting', 'patterns': ['Hi', 'How ar...\n",
       "1  {'tag': 'goodbye', 'patterns': ['cya', 'see yo...\n",
       "2  {'tag': 'creator', 'patterns': ['what is the n...\n",
       "3  {'tag': 'name', 'patterns': ['name', 'your nam...\n",
       "4  {'tag': 'hours', 'patterns': ['timing of colle..."
      ]
     },
     "execution_count": 101,
     "metadata": {},
     "output_type": "execute_result"
    }
   ],
   "source": [
    "df1.head()"
   ]
  },
  {
   "cell_type": "markdown",
   "id": "b23e0915",
   "metadata": {},
   "source": [
    "# pandas analysing dataframes"
   ]
  },
  {
   "cell_type": "code",
   "execution_count": 91,
   "id": "e7d82545",
   "metadata": {},
   "outputs": [],
   "source": [
    "import pandas as pd"
   ]
  },
  {
   "cell_type": "code",
   "execution_count": 92,
   "id": "551ef871",
   "metadata": {},
   "outputs": [],
   "source": [
    "df2=pd.read_csv(\"C:\\\\Users\\\\divi\\\\Downloads\\\\Customers.csv\")"
   ]
  },
  {
   "cell_type": "code",
   "execution_count": 96,
   "id": "ff6f01ae",
   "metadata": {},
   "outputs": [
    {
     "name": "stdout",
     "output_type": "stream",
     "text": [
      "<class 'pandas.core.frame.DataFrame'>\n",
      "RangeIndex: 10281 entries, 0 to 10280\n",
      "Data columns (total 20 columns):\n",
      " #   Column                   Non-Null Count  Dtype \n",
      "---  ------                   --------------  ----- \n",
      " 0   customer_id              10281 non-null  int64 \n",
      " 1   customer_acct_num        10281 non-null  int64 \n",
      " 2   first_name               10281 non-null  object\n",
      " 3   last_name                10281 non-null  object\n",
      " 4   customer_address         10281 non-null  object\n",
      " 5   customer_city            10281 non-null  object\n",
      " 6   customer_state_province  10281 non-null  object\n",
      " 7   customer_postal_code     10281 non-null  int64 \n",
      " 8   customer_country         10281 non-null  object\n",
      " 9   birthdate                10281 non-null  object\n",
      " 10  marital_status           10281 non-null  object\n",
      " 11  yearly_income            10281 non-null  object\n",
      " 12  gender                   10281 non-null  object\n",
      " 13  total_children           10281 non-null  int64 \n",
      " 14  num_children_at_home     10281 non-null  int64 \n",
      " 15  education                10281 non-null  object\n",
      " 16  acct_open_date           10281 non-null  object\n",
      " 17  member_card              10281 non-null  object\n",
      " 18  occupation               10281 non-null  object\n",
      " 19  homeowner                10281 non-null  object\n",
      "dtypes: int64(5), object(15)\n",
      "memory usage: 1.6+ MB\n",
      "None\n"
     ]
    }
   ],
   "source": [
    "print(df2.info())"
   ]
  },
  {
   "cell_type": "markdown",
   "id": "42a05a88",
   "metadata": {},
   "source": [
    "# cleaning data using jupyter notebook"
   ]
  },
  {
   "cell_type": "code",
   "execution_count": 141,
   "id": "0594dcd3",
   "metadata": {},
   "outputs": [],
   "source": [
    "import pandas as pd"
   ]
  },
  {
   "cell_type": "code",
   "execution_count": 142,
   "id": "311c0333",
   "metadata": {},
   "outputs": [],
   "source": [
    "file=pd.read_csv(\"C:\\\\Users\\\\divi\\\\Downloads\\\\dirtydata.csv\")"
   ]
  },
  {
   "cell_type": "code",
   "execution_count": 143,
   "id": "88f81e47",
   "metadata": {},
   "outputs": [
    {
     "data": {
      "text/html": [
       "<div>\n",
       "<style scoped>\n",
       "    .dataframe tbody tr th:only-of-type {\n",
       "        vertical-align: middle;\n",
       "    }\n",
       "\n",
       "    .dataframe tbody tr th {\n",
       "        vertical-align: top;\n",
       "    }\n",
       "\n",
       "    .dataframe thead th {\n",
       "        text-align: right;\n",
       "    }\n",
       "</style>\n",
       "<table border=\"1\" class=\"dataframe\">\n",
       "  <thead>\n",
       "    <tr style=\"text-align: right;\">\n",
       "      <th></th>\n",
       "      <th>Duration</th>\n",
       "      <th>Date</th>\n",
       "      <th>Pulse</th>\n",
       "      <th>Maxpulse</th>\n",
       "      <th>Calories</th>\n",
       "    </tr>\n",
       "  </thead>\n",
       "  <tbody>\n",
       "    <tr>\n",
       "      <th>0</th>\n",
       "      <td>60</td>\n",
       "      <td>'2020/12/01'</td>\n",
       "      <td>110</td>\n",
       "      <td>130</td>\n",
       "      <td>409.1</td>\n",
       "    </tr>\n",
       "    <tr>\n",
       "      <th>1</th>\n",
       "      <td>60</td>\n",
       "      <td>'2020/12/02'</td>\n",
       "      <td>117</td>\n",
       "      <td>145</td>\n",
       "      <td>479.0</td>\n",
       "    </tr>\n",
       "    <tr>\n",
       "      <th>2</th>\n",
       "      <td>60</td>\n",
       "      <td>'2020/12/03'</td>\n",
       "      <td>103</td>\n",
       "      <td>135</td>\n",
       "      <td>340.0</td>\n",
       "    </tr>\n",
       "    <tr>\n",
       "      <th>3</th>\n",
       "      <td>45</td>\n",
       "      <td>'2020/12/04'</td>\n",
       "      <td>109</td>\n",
       "      <td>175</td>\n",
       "      <td>282.4</td>\n",
       "    </tr>\n",
       "    <tr>\n",
       "      <th>4</th>\n",
       "      <td>45</td>\n",
       "      <td>'2020/12/05'</td>\n",
       "      <td>117</td>\n",
       "      <td>148</td>\n",
       "      <td>406.0</td>\n",
       "    </tr>\n",
       "  </tbody>\n",
       "</table>\n",
       "</div>"
      ],
      "text/plain": [
       "   Duration          Date  Pulse  Maxpulse  Calories\n",
       "0        60  '2020/12/01'    110       130     409.1\n",
       "1        60  '2020/12/02'    117       145     479.0\n",
       "2        60  '2020/12/03'    103       135     340.0\n",
       "3        45  '2020/12/04'    109       175     282.4\n",
       "4        45  '2020/12/05'    117       148     406.0"
      ]
     },
     "execution_count": 143,
     "metadata": {},
     "output_type": "execute_result"
    }
   ],
   "source": [
    "file.head()"
   ]
  },
  {
   "cell_type": "code",
   "execution_count": 144,
   "id": "010e9b06",
   "metadata": {},
   "outputs": [
    {
     "name": "stdout",
     "output_type": "stream",
     "text": [
      "    Duration          Date  Pulse  Maxpulse  Calories\n",
      "0         60  '2020/12/01'    110       130     409.1\n",
      "1         60  '2020/12/02'    117       145     479.0\n",
      "2         60  '2020/12/03'    103       135     340.0\n",
      "3         45  '2020/12/04'    109       175     282.4\n",
      "4         45  '2020/12/05'    117       148     406.0\n",
      "5         60  '2020/12/06'    102       127     300.0\n",
      "6         60  '2020/12/07'    110       136     374.0\n",
      "7        450  '2020/12/08'    104       134     253.3\n",
      "8         30  '2020/12/09'    109       133     195.1\n",
      "9         60  '2020/12/10'     98       124     269.0\n",
      "10        60  '2020/12/11'    103       147     329.3\n",
      "11        60  '2020/12/12'    100       120     250.7\n",
      "12        60  '2020/12/12'    100       120     250.7\n",
      "13        60  '2020/12/13'    106       128     345.3\n",
      "14        60  '2020/12/14'    104       132     379.3\n",
      "15        60  '2020/12/15'     98       123     275.0\n",
      "16        60  '2020/12/16'     98       120     215.2\n",
      "17        60  '2020/12/17'    100       120     300.0\n",
      "18        45  '2020/12/18'     90       112       NaN\n",
      "19        60  '2020/12/19'    103       123     323.0\n",
      "20        45  '2020/12/20'     97       125     243.0\n",
      "21        60  '2020/12/21'    108       131     364.2\n",
      "22        45           NaN    100       119     282.0\n",
      "23        60  '2020/12/23'    130       101     300.0\n",
      "24        45  '2020/12/24'    105       132     246.0\n",
      "25        60  '2020/12/25'    102       126     334.5\n",
      "26        60      20201226    100       120     250.0\n",
      "27        60  '2020/12/27'     92       118     241.0\n",
      "28        60  '2020/12/28'    103       132       NaN\n",
      "29        60  '2020/12/29'    100       132     280.0\n",
      "30        60  '2020/12/30'    102       129     380.3\n",
      "31        60  '2020/12/31'     92       115     243.0\n"
     ]
    }
   ],
   "source": [
    "print(file.to_string())"
   ]
  },
  {
   "cell_type": "code",
   "execution_count": 145,
   "id": "a940855c",
   "metadata": {},
   "outputs": [],
   "source": [
    "# remove empty row\n",
    "x=file.dropna(inplace=True)"
   ]
  },
  {
   "cell_type": "code",
   "execution_count": 146,
   "id": "b3f008c4",
   "metadata": {},
   "outputs": [
    {
     "name": "stdout",
     "output_type": "stream",
     "text": [
      "    Duration          Date  Pulse  Maxpulse  Calories\n",
      "0         60  '2020/12/01'    110       130     409.1\n",
      "1         60  '2020/12/02'    117       145     479.0\n",
      "2         60  '2020/12/03'    103       135     340.0\n",
      "3         45  '2020/12/04'    109       175     282.4\n",
      "4         45  '2020/12/05'    117       148     406.0\n",
      "5         60  '2020/12/06'    102       127     300.0\n",
      "6         60  '2020/12/07'    110       136     374.0\n",
      "7        450  '2020/12/08'    104       134     253.3\n",
      "8         30  '2020/12/09'    109       133     195.1\n",
      "9         60  '2020/12/10'     98       124     269.0\n",
      "10        60  '2020/12/11'    103       147     329.3\n",
      "11        60  '2020/12/12'    100       120     250.7\n",
      "12        60  '2020/12/12'    100       120     250.7\n",
      "13        60  '2020/12/13'    106       128     345.3\n",
      "14        60  '2020/12/14'    104       132     379.3\n",
      "15        60  '2020/12/15'     98       123     275.0\n",
      "16        60  '2020/12/16'     98       120     215.2\n",
      "17        60  '2020/12/17'    100       120     300.0\n",
      "19        60  '2020/12/19'    103       123     323.0\n",
      "20        45  '2020/12/20'     97       125     243.0\n",
      "21        60  '2020/12/21'    108       131     364.2\n",
      "23        60  '2020/12/23'    130       101     300.0\n",
      "24        45  '2020/12/24'    105       132     246.0\n",
      "25        60  '2020/12/25'    102       126     334.5\n",
      "26        60      20201226    100       120     250.0\n",
      "27        60  '2020/12/27'     92       118     241.0\n",
      "29        60  '2020/12/29'    100       132     280.0\n",
      "30        60  '2020/12/30'    102       129     380.3\n",
      "31        60  '2020/12/31'     92       115     243.0\n"
     ]
    }
   ],
   "source": [
    "print(file)"
   ]
  },
  {
   "cell_type": "code",
   "execution_count": 147,
   "id": "2a69bca0",
   "metadata": {},
   "outputs": [],
   "source": [
    "#replace empty row\n",
    "\n",
    "file.fillna(1300,inplace=True)"
   ]
  },
  {
   "cell_type": "code",
   "execution_count": 148,
   "id": "a5b2bb60",
   "metadata": {},
   "outputs": [
    {
     "name": "stdout",
     "output_type": "stream",
     "text": [
      "    Duration          Date  Pulse  Maxpulse  Calories\n",
      "0         60  '2020/12/01'    110       130     409.1\n",
      "1         60  '2020/12/02'    117       145     479.0\n",
      "2         60  '2020/12/03'    103       135     340.0\n",
      "3         45  '2020/12/04'    109       175     282.4\n",
      "4         45  '2020/12/05'    117       148     406.0\n",
      "5         60  '2020/12/06'    102       127     300.0\n",
      "6         60  '2020/12/07'    110       136     374.0\n",
      "7        450  '2020/12/08'    104       134     253.3\n",
      "8         30  '2020/12/09'    109       133     195.1\n",
      "9         60  '2020/12/10'     98       124     269.0\n",
      "10        60  '2020/12/11'    103       147     329.3\n",
      "11        60  '2020/12/12'    100       120     250.7\n",
      "12        60  '2020/12/12'    100       120     250.7\n",
      "13        60  '2020/12/13'    106       128     345.3\n",
      "14        60  '2020/12/14'    104       132     379.3\n",
      "15        60  '2020/12/15'     98       123     275.0\n",
      "16        60  '2020/12/16'     98       120     215.2\n",
      "17        60  '2020/12/17'    100       120     300.0\n",
      "19        60  '2020/12/19'    103       123     323.0\n",
      "20        45  '2020/12/20'     97       125     243.0\n",
      "21        60  '2020/12/21'    108       131     364.2\n",
      "23        60  '2020/12/23'    130       101     300.0\n",
      "24        45  '2020/12/24'    105       132     246.0\n",
      "25        60  '2020/12/25'    102       126     334.5\n",
      "26        60      20201226    100       120     250.0\n",
      "27        60  '2020/12/27'     92       118     241.0\n",
      "29        60  '2020/12/29'    100       132     280.0\n",
      "30        60  '2020/12/30'    102       129     380.3\n",
      "31        60  '2020/12/31'     92       115     243.0\n"
     ]
    }
   ],
   "source": [
    "print(file)"
   ]
  },
  {
   "cell_type": "code",
   "execution_count": 149,
   "id": "985425d5",
   "metadata": {},
   "outputs": [
    {
     "name": "stdout",
     "output_type": "stream",
     "text": [
      "['BooleanDtype', 'Categorical', 'CategoricalDtype', 'CategoricalIndex', 'DataFrame', 'DateOffset', 'DatetimeIndex', 'DatetimeTZDtype', 'ExcelFile', 'ExcelWriter', 'Flags', 'Float32Dtype', 'Float64Dtype', 'Float64Index', 'Grouper', 'HDFStore', 'Index', 'IndexSlice', 'Int16Dtype', 'Int32Dtype', 'Int64Dtype', 'Int64Index', 'Int8Dtype', 'Interval', 'IntervalDtype', 'IntervalIndex', 'MultiIndex', 'NA', 'NaT', 'NamedAgg', 'Period', 'PeriodDtype', 'PeriodIndex', 'RangeIndex', 'Series', 'SparseDtype', 'StringDtype', 'Timedelta', 'TimedeltaIndex', 'Timestamp', 'UInt16Dtype', 'UInt32Dtype', 'UInt64Dtype', 'UInt64Index', 'UInt8Dtype', '__all__', '__builtins__', '__cached__', '__deprecated_num_index_names', '__dir__', '__doc__', '__docformat__', '__file__', '__getattr__', '__git_version__', '__loader__', '__name__', '__package__', '__path__', '__spec__', '__version__', '_config', '_is_numpy_dev', '_libs', '_testing', '_typing', '_version', 'api', 'array', 'arrays', 'bdate_range', 'compat', 'concat', 'core', 'crosstab', 'cut', 'date_range', 'describe_option', 'errors', 'eval', 'factorize', 'get_dummies', 'get_option', 'infer_freq', 'interval_range', 'io', 'isna', 'isnull', 'json_normalize', 'lreshape', 'melt', 'merge', 'merge_asof', 'merge_ordered', 'notna', 'notnull', 'offsets', 'option_context', 'options', 'pandas', 'period_range', 'pivot', 'pivot_table', 'plotting', 'qcut', 'read_clipboard', 'read_csv', 'read_excel', 'read_feather', 'read_fwf', 'read_gbq', 'read_hdf', 'read_html', 'read_json', 'read_orc', 'read_parquet', 'read_pickle', 'read_sas', 'read_spss', 'read_sql', 'read_sql_query', 'read_sql_table', 'read_stata', 'read_table', 'read_xml', 'reset_option', 'set_eng_float_format', 'set_option', 'show_versions', 'test', 'testing', 'timedelta_range', 'to_datetime', 'to_numeric', 'to_pickle', 'to_timedelta', 'tseries', 'unique', 'util', 'value_counts', 'wide_to_long']\n"
     ]
    }
   ],
   "source": [
    "# available directiries\n",
    "\n",
    "print(dir(pd))"
   ]
  },
  {
   "cell_type": "raw",
   "id": "a8dd4660",
   "metadata": {},
   "source": [
    "# replace- mean,median,mode\n",
    "\n",
    "\n",
    "# mean()\n",
    "\n",
    "x=file.mean()\n",
    "file.fillna(x,inplace=True)\n",
    "print(file.to_string())\n",
    "\n",
    "x=file.median()\n",
    "file.fillna(x,inplace=True)\n",
    "print(file.to_string())\n",
    "\n",
    "x=file.mode()\n",
    "file.fillna(x,inplace=True)\n",
    "print(file.to_string())\n"
   ]
  },
  {
   "cell_type": "code",
   "execution_count": 150,
   "id": "d0a0f0c7",
   "metadata": {},
   "outputs": [
    {
     "name": "stdout",
     "output_type": "stream",
     "text": [
      "    Duration          Date  Pulse  Maxpulse  Calories\n",
      "0         60  '2020/12/01'    110       130     409.1\n",
      "1         60  '2020/12/02'    117       145     479.0\n",
      "2         60  '2020/12/03'    103       135     340.0\n",
      "3         45  '2020/12/04'    109       175     282.4\n",
      "4         45  '2020/12/05'    117       148     406.0\n",
      "5         60  '2020/12/06'    102       127     300.0\n",
      "6         60  '2020/12/07'    110       136     374.0\n",
      "7        450  '2020/12/08'    104       134     253.3\n",
      "8         30  '2020/12/09'    109       133     195.1\n",
      "9         60  '2020/12/10'     98       124     269.0\n",
      "10        60  '2020/12/11'    103       147     329.3\n",
      "11        60  '2020/12/12'    100       120     250.7\n",
      "12        60  '2020/12/12'    100       120     250.7\n",
      "13        60  '2020/12/13'    106       128     345.3\n",
      "14        60  '2020/12/14'    104       132     379.3\n",
      "15        60  '2020/12/15'     98       123     275.0\n",
      "16        60  '2020/12/16'     98       120     215.2\n",
      "17        60  '2020/12/17'    100       120     300.0\n",
      "19        60  '2020/12/19'    103       123     323.0\n",
      "20        45  '2020/12/20'     97       125     243.0\n",
      "21        60  '2020/12/21'    108       131     364.2\n",
      "23        60  '2020/12/23'    130       101     300.0\n",
      "24        45  '2020/12/24'    105       132     246.0\n",
      "25        60  '2020/12/25'    102       126     334.5\n",
      "26        60      20201226    100       120     250.0\n",
      "27        60  '2020/12/27'     92       118     241.0\n",
      "29        60  '2020/12/29'    100       132     280.0\n",
      "30        60  '2020/12/30'    102       129     380.3\n",
      "31        60  '2020/12/31'     92       115     243.0\n"
     ]
    }
   ],
   "source": [
    "# cleaning and changing wrong format\n",
    "\n",
    "print(file)"
   ]
  },
  {
   "cell_type": "code",
   "execution_count": 154,
   "id": "34bb994d",
   "metadata": {},
   "outputs": [],
   "source": [
    "\n",
    "# change the wrong format like 26 th row\n",
    "\n",
    "\n",
    "file['Date']=pd.to_datetime(file['Date'])"
   ]
  },
  {
   "cell_type": "code",
   "execution_count": 155,
   "id": "6eb3ec92",
   "metadata": {},
   "outputs": [
    {
     "name": "stdout",
     "output_type": "stream",
     "text": [
      "    Duration       Date  Pulse  Maxpulse  Calories       date\n",
      "0         60 2020-12-01    110       130     409.1 2020-12-01\n",
      "1         60 2020-12-02    117       145     479.0 2020-12-02\n",
      "2         60 2020-12-03    103       135     340.0 2020-12-03\n",
      "3         45 2020-12-04    109       175     282.4 2020-12-04\n",
      "4         45 2020-12-05    117       148     406.0 2020-12-05\n",
      "5         60 2020-12-06    102       127     300.0 2020-12-06\n",
      "6         60 2020-12-07    110       136     374.0 2020-12-07\n",
      "7        450 2020-12-08    104       134     253.3 2020-12-08\n",
      "8         30 2020-12-09    109       133     195.1 2020-12-09\n",
      "9         60 2020-12-10     98       124     269.0 2020-12-10\n",
      "10        60 2020-12-11    103       147     329.3 2020-12-11\n",
      "11        60 2020-12-12    100       120     250.7 2020-12-12\n",
      "12        60 2020-12-12    100       120     250.7 2020-12-12\n",
      "13        60 2020-12-13    106       128     345.3 2020-12-13\n",
      "14        60 2020-12-14    104       132     379.3 2020-12-14\n",
      "15        60 2020-12-15     98       123     275.0 2020-12-15\n",
      "16        60 2020-12-16     98       120     215.2 2020-12-16\n",
      "17        60 2020-12-17    100       120     300.0 2020-12-17\n",
      "19        60 2020-12-19    103       123     323.0 2020-12-19\n",
      "20        45 2020-12-20     97       125     243.0 2020-12-20\n",
      "21        60 2020-12-21    108       131     364.2 2020-12-21\n",
      "23        60 2020-12-23    130       101     300.0 2020-12-23\n",
      "24        45 2020-12-24    105       132     246.0 2020-12-24\n",
      "25        60 2020-12-25    102       126     334.5 2020-12-25\n",
      "26        60 2020-12-26    100       120     250.0 2020-12-26\n",
      "27        60 2020-12-27     92       118     241.0 2020-12-27\n",
      "29        60 2020-12-29    100       132     280.0 2020-12-29\n",
      "30        60 2020-12-30    102       129     380.3 2020-12-30\n",
      "31        60 2020-12-31     92       115     243.0 2020-12-31\n"
     ]
    }
   ],
   "source": [
    "print(file)"
   ]
  },
  {
   "cell_type": "code",
   "execution_count": 156,
   "id": "7bf2d4b5",
   "metadata": {},
   "outputs": [],
   "source": [
    "del(file['date'])"
   ]
  },
  {
   "cell_type": "code",
   "execution_count": 157,
   "id": "075aa487",
   "metadata": {},
   "outputs": [
    {
     "name": "stdout",
     "output_type": "stream",
     "text": [
      "    Duration       Date  Pulse  Maxpulse  Calories\n",
      "0         60 2020-12-01    110       130     409.1\n",
      "1         60 2020-12-02    117       145     479.0\n",
      "2         60 2020-12-03    103       135     340.0\n",
      "3         45 2020-12-04    109       175     282.4\n",
      "4         45 2020-12-05    117       148     406.0\n",
      "5         60 2020-12-06    102       127     300.0\n",
      "6         60 2020-12-07    110       136     374.0\n",
      "7        450 2020-12-08    104       134     253.3\n",
      "8         30 2020-12-09    109       133     195.1\n",
      "9         60 2020-12-10     98       124     269.0\n",
      "10        60 2020-12-11    103       147     329.3\n",
      "11        60 2020-12-12    100       120     250.7\n",
      "12        60 2020-12-12    100       120     250.7\n",
      "13        60 2020-12-13    106       128     345.3\n",
      "14        60 2020-12-14    104       132     379.3\n",
      "15        60 2020-12-15     98       123     275.0\n",
      "16        60 2020-12-16     98       120     215.2\n",
      "17        60 2020-12-17    100       120     300.0\n",
      "19        60 2020-12-19    103       123     323.0\n",
      "20        45 2020-12-20     97       125     243.0\n",
      "21        60 2020-12-21    108       131     364.2\n",
      "23        60 2020-12-23    130       101     300.0\n",
      "24        45 2020-12-24    105       132     246.0\n",
      "25        60 2020-12-25    102       126     334.5\n",
      "26        60 2020-12-26    100       120     250.0\n",
      "27        60 2020-12-27     92       118     241.0\n",
      "29        60 2020-12-29    100       132     280.0\n",
      "30        60 2020-12-30    102       129     380.3\n",
      "31        60 2020-12-31     92       115     243.0\n"
     ]
    }
   ],
   "source": [
    "print(file)"
   ]
  },
  {
   "cell_type": "code",
   "execution_count": 165,
   "id": "c5a0751f",
   "metadata": {},
   "outputs": [],
   "source": [
    "# change the specific row value\n",
    "\n",
    "file.loc[7,\"Duration\"]=120"
   ]
  },
  {
   "cell_type": "code",
   "execution_count": 166,
   "id": "45b41ef8",
   "metadata": {},
   "outputs": [
    {
     "name": "stdout",
     "output_type": "stream",
     "text": [
      "    Duration       Date  Pulse  Maxpulse  Calories\n",
      "0         60 2020-12-01    110       130     409.1\n",
      "1         60 2020-12-02    117       145     479.0\n",
      "2         60 2020-12-03    103       135     340.0\n",
      "3         45 2020-12-04    109       175     282.4\n",
      "4         45 2020-12-05    117       148     406.0\n",
      "5         60 2020-12-06    102       127     300.0\n",
      "6         60 2020-12-07    110       136     374.0\n",
      "7        120 2020-12-08    104       134     253.3\n",
      "8         30 2020-12-09    109       133     195.1\n",
      "9         60 2020-12-10     98       124     269.0\n",
      "10        60 2020-12-11    103       147     329.3\n",
      "11        60 2020-12-12    100       120     250.7\n",
      "12        60 2020-12-12    100       120     250.7\n",
      "13        60 2020-12-13    106       128     345.3\n",
      "14        60 2020-12-14    104       132     379.3\n",
      "15        60 2020-12-15     98       123     275.0\n",
      "16        60 2020-12-16     98       120     215.2\n",
      "17        60 2020-12-17    100       120     300.0\n",
      "19        60 2020-12-19    103       123     323.0\n",
      "20        45 2020-12-20     97       125     243.0\n",
      "21        60 2020-12-21    108       131     364.2\n",
      "23        60 2020-12-23    130       101     300.0\n",
      "24        45 2020-12-24    105       132     246.0\n",
      "25        60 2020-12-25    102       126     334.5\n",
      "26        60 2020-12-26    100       120     250.0\n",
      "27        60 2020-12-27     92       118     241.0\n",
      "29        60 2020-12-29    100       132     280.0\n",
      "30        60 2020-12-30    102       129     380.3\n",
      "31        60 2020-12-31     92       115     243.0\n"
     ]
    }
   ],
   "source": [
    "print(file.to_string())"
   ]
  },
  {
   "cell_type": "code",
   "execution_count": 167,
   "id": "698ca3f5",
   "metadata": {},
   "outputs": [
    {
     "name": "stdout",
     "output_type": "stream",
     "text": [
      "    Duration       Date  Pulse  Maxpulse  Calories\n",
      "0         60 2020-12-01    110       130     409.1\n",
      "1         60 2020-12-02    117       145     479.0\n",
      "2         60 2020-12-03    103       135     340.0\n",
      "3         45 2020-12-04    109       175     282.4\n",
      "4         45 2020-12-05    117       148     406.0\n",
      "5         60 2020-12-06    102       127     300.0\n",
      "6         60 2020-12-07    110       136     374.0\n",
      "7        120 2020-12-08    104       134     253.3\n",
      "8         30 2020-12-09    109       133     195.1\n",
      "9         60 2020-12-10     98       124     269.0\n",
      "10        60 2020-12-11    103       147     329.3\n",
      "11        60 2020-12-12    100       120     250.7\n",
      "12        60 2020-12-12    100       120     250.7\n",
      "13        60 2020-12-13    106       128     345.3\n",
      "14        60 2020-12-14    104       132     379.3\n",
      "15        60 2020-12-15     98       123     275.0\n",
      "16        60 2020-12-16     98       120     215.2\n",
      "17        60 2020-12-17    100       120     300.0\n",
      "19        60 2020-12-19    103       123     323.0\n",
      "20        45 2020-12-20     97       125     243.0\n",
      "21        60 2020-12-21    108       131     364.2\n",
      "23        60 2020-12-23    130       101     300.0\n",
      "24        45 2020-12-24    105       132     246.0\n",
      "25        60 2020-12-25    102       126     334.5\n",
      "26        60 2020-12-26    100       120     250.0\n",
      "27        60 2020-12-27     92       118     241.0\n",
      "29        60 2020-12-29    100       132     280.0\n",
      "30        60 2020-12-30    102       129     380.3\n",
      "31        60 2020-12-31     92       115     243.0\n"
     ]
    }
   ],
   "source": [
    "# removing duplicates using pandas\n",
    "\n",
    "print(file)"
   ]
  },
  {
   "cell_type": "code",
   "execution_count": 168,
   "id": "c8a7ffdf",
   "metadata": {},
   "outputs": [],
   "source": [
    "x=file.duplicated()"
   ]
  },
  {
   "cell_type": "code",
   "execution_count": 169,
   "id": "1451392d",
   "metadata": {},
   "outputs": [
    {
     "name": "stdout",
     "output_type": "stream",
     "text": [
      "0     False\n",
      "1     False\n",
      "2     False\n",
      "3     False\n",
      "4     False\n",
      "5     False\n",
      "6     False\n",
      "7     False\n",
      "8     False\n",
      "9     False\n",
      "10    False\n",
      "11    False\n",
      "12     True\n",
      "13    False\n",
      "14    False\n",
      "15    False\n",
      "16    False\n",
      "17    False\n",
      "19    False\n",
      "20    False\n",
      "21    False\n",
      "23    False\n",
      "24    False\n",
      "25    False\n",
      "26    False\n",
      "27    False\n",
      "29    False\n",
      "30    False\n",
      "31    False\n",
      "dtype: bool\n"
     ]
    }
   ],
   "source": [
    "print(x)"
   ]
  },
  {
   "cell_type": "code",
   "execution_count": 174,
   "id": "c1dbee8a",
   "metadata": {},
   "outputs": [],
   "source": [
    "file.drop_duplicates(inplace=True)\n"
   ]
  },
  {
   "cell_type": "code",
   "execution_count": 175,
   "id": "2534e245",
   "metadata": {},
   "outputs": [
    {
     "name": "stdout",
     "output_type": "stream",
     "text": [
      "    Duration       Date  Pulse  Maxpulse  Calories\n",
      "0         60 2020-12-01    110       130     409.1\n",
      "1         60 2020-12-02    117       145     479.0\n",
      "2         60 2020-12-03    103       135     340.0\n",
      "3         45 2020-12-04    109       175     282.4\n",
      "4         45 2020-12-05    117       148     406.0\n",
      "5         60 2020-12-06    102       127     300.0\n",
      "6         60 2020-12-07    110       136     374.0\n",
      "7        120 2020-12-08    104       134     253.3\n",
      "8         30 2020-12-09    109       133     195.1\n",
      "9         60 2020-12-10     98       124     269.0\n",
      "10        60 2020-12-11    103       147     329.3\n",
      "11        60 2020-12-12    100       120     250.7\n",
      "13        60 2020-12-13    106       128     345.3\n",
      "14        60 2020-12-14    104       132     379.3\n",
      "15        60 2020-12-15     98       123     275.0\n",
      "16        60 2020-12-16     98       120     215.2\n",
      "17        60 2020-12-17    100       120     300.0\n",
      "19        60 2020-12-19    103       123     323.0\n",
      "20        45 2020-12-20     97       125     243.0\n",
      "21        60 2020-12-21    108       131     364.2\n",
      "23        60 2020-12-23    130       101     300.0\n",
      "24        45 2020-12-24    105       132     246.0\n",
      "25        60 2020-12-25    102       126     334.5\n",
      "26        60 2020-12-26    100       120     250.0\n",
      "27        60 2020-12-27     92       118     241.0\n",
      "29        60 2020-12-29    100       132     280.0\n",
      "30        60 2020-12-30    102       129     380.3\n",
      "31        60 2020-12-31     92       115     243.0\n"
     ]
    }
   ],
   "source": [
    "print(file)"
   ]
  },
  {
   "cell_type": "code",
   "execution_count": 176,
   "id": "6331e468",
   "metadata": {},
   "outputs": [],
   "source": [
    "# how to save file in pandas\n",
    "\n",
    "file.to_csv(\"csv_new\")"
   ]
  },
  {
   "cell_type": "code",
   "execution_count": 177,
   "id": "c18be29e",
   "metadata": {},
   "outputs": [],
   "source": [
    "file.to_json(\"json_new\")"
   ]
  },
  {
   "cell_type": "markdown",
   "id": "d1f52ae4",
   "metadata": {},
   "source": [
    "# data correlation-corr()"
   ]
  },
  {
   "cell_type": "code",
   "execution_count": 178,
   "id": "5e1ffa49",
   "metadata": {},
   "outputs": [
    {
     "name": "stdout",
     "output_type": "stream",
     "text": [
      "          Duration     Pulse  Maxpulse  Calories\n",
      "Duration  1.000000 -0.107417 -0.150758  0.035323\n",
      "Pulse    -0.107417  1.000000  0.200177  0.503243\n",
      "Maxpulse -0.150758  0.200177  1.000000  0.338515\n",
      "Calories  0.035323  0.503243  0.338515  1.000000\n"
     ]
    }
   ],
   "source": [
    "# data correlation\n",
    "\n",
    "# -1 to 1(0.5-0.9)\n",
    "\n",
    "print(file.corr())"
   ]
  },
  {
   "cell_type": "markdown",
   "id": "872795df",
   "metadata": {},
   "source": [
    "# plotting"
   ]
  },
  {
   "cell_type": "code",
   "execution_count": 184,
   "id": "1a0dd1a3",
   "metadata": {},
   "outputs": [],
   "source": [
    "import matplotlib.pyplot as plt"
   ]
  },
  {
   "cell_type": "code",
   "execution_count": 194,
   "id": "42f5cbac",
   "metadata": {},
   "outputs": [],
   "source": [
    "df5=pd.read_csv(\"C:\\\\Users\\\\divi\\\\Downloads\\\\Regions.csv\")"
   ]
  },
  {
   "cell_type": "code",
   "execution_count": 195,
   "id": "99f175c7",
   "metadata": {},
   "outputs": [
    {
     "data": {
      "text/html": [
       "<div>\n",
       "<style scoped>\n",
       "    .dataframe tbody tr th:only-of-type {\n",
       "        vertical-align: middle;\n",
       "    }\n",
       "\n",
       "    .dataframe tbody tr th {\n",
       "        vertical-align: top;\n",
       "    }\n",
       "\n",
       "    .dataframe thead th {\n",
       "        text-align: right;\n",
       "    }\n",
       "</style>\n",
       "<table border=\"1\" class=\"dataframe\">\n",
       "  <thead>\n",
       "    <tr style=\"text-align: right;\">\n",
       "      <th></th>\n",
       "      <th>region_id</th>\n",
       "      <th>sales_district</th>\n",
       "      <th>sales_region</th>\n",
       "    </tr>\n",
       "  </thead>\n",
       "  <tbody>\n",
       "    <tr>\n",
       "      <th>0</th>\n",
       "      <td>1</td>\n",
       "      <td>San Francisco</td>\n",
       "      <td>Central West</td>\n",
       "    </tr>\n",
       "    <tr>\n",
       "      <th>1</th>\n",
       "      <td>2</td>\n",
       "      <td>Mexico City</td>\n",
       "      <td>Mexico Central</td>\n",
       "    </tr>\n",
       "    <tr>\n",
       "      <th>2</th>\n",
       "      <td>3</td>\n",
       "      <td>Los Angeles</td>\n",
       "      <td>South West</td>\n",
       "    </tr>\n",
       "    <tr>\n",
       "      <th>3</th>\n",
       "      <td>4</td>\n",
       "      <td>Guadalajara</td>\n",
       "      <td>Mexico West</td>\n",
       "    </tr>\n",
       "    <tr>\n",
       "      <th>4</th>\n",
       "      <td>5</td>\n",
       "      <td>Vancouver</td>\n",
       "      <td>Canada West</td>\n",
       "    </tr>\n",
       "  </tbody>\n",
       "</table>\n",
       "</div>"
      ],
      "text/plain": [
       "   region_id sales_district    sales_region\n",
       "0          1  San Francisco    Central West\n",
       "1          2    Mexico City  Mexico Central\n",
       "2          3    Los Angeles      South West\n",
       "3          4    Guadalajara     Mexico West\n",
       "4          5      Vancouver     Canada West"
      ]
     },
     "execution_count": 195,
     "metadata": {},
     "output_type": "execute_result"
    }
   ],
   "source": [
    "df5.head()"
   ]
  },
  {
   "cell_type": "code",
   "execution_count": 196,
   "id": "ae6916f0",
   "metadata": {},
   "outputs": [
    {
     "data": {
      "image/png": "[encoded data removed]",
      "text/plain": [
       "<Figure size 640x480 with 1 Axes>"
      ]
     },
     "metadata": {},
     "output_type": "display_data"
    }
   ],
   "source": [
    "df5.plot()\n",
    "plt.show()"
   ]
  },
  {
   "cell_type": "code",
   "execution_count": null,
   "id": "5930e2f5",
   "metadata": {},
   "outputs": [],
   "source": []
  }
 ],
 "metadata": {
  "kernelspec": {
   "display_name": "Python 3 (ipykernel)",
   "language": "python",
   "name": "python3"
  },
  "language_info": {
   "codemirror_mode": {
    "name": "ipython",
    "version": 3
   },
   "file_extension": ".py",
   "mimetype": "text/x-python",
   "name": "python",
   "nbconvert_exporter": "python",
   "pygments_lexer": "ipython3",
   "version": "3.9.13"
  }
 },
 "nbformat": 4,
 "nbformat_minor": 5
}
