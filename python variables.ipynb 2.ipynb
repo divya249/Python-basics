{
 "cells": [
  {
   "cell_type": "markdown",
   "id": "e8880f6b",
   "metadata": {},
   "source": [
    "# python libraries"
   ]
  },
  {
   "cell_type": "code",
   "execution_count": 2,
   "id": "d34fc49e",
   "metadata": {},
   "outputs": [],
   "source": [
    "#list\n",
    "#set\n",
    "#dictionary\n",
    "#tuple"
   ]
  },
  {
   "cell_type": "markdown",
   "id": "cb5054a8",
   "metadata": {},
   "source": [
    "# list"
   ]
  },
  {
   "cell_type": "code",
   "execution_count": 3,
   "id": "60dfb264",
   "metadata": {},
   "outputs": [],
   "source": [
    "a=[10,20,30]\n"
   ]
  },
  {
   "cell_type": "code",
   "execution_count": 4,
   "id": "de6314c5",
   "metadata": {},
   "outputs": [
    {
     "name": "stdout",
     "output_type": "stream",
     "text": [
      "<class 'list'>\n"
     ]
    }
   ],
   "source": [
    "print(type(a))"
   ]
  },
  {
   "cell_type": "code",
   "execution_count": 5,
   "id": "a73cc924",
   "metadata": {},
   "outputs": [],
   "source": [
    "#allowes duplictaes\n",
    "\n",
    "a=[10,10,20,20,30,30]"
   ]
  },
  {
   "cell_type": "code",
   "execution_count": 6,
   "id": "0c2cc26a",
   "metadata": {},
   "outputs": [
    {
     "name": "stdout",
     "output_type": "stream",
     "text": [
      "[10, 10, 20, 20, 30, 30]\n"
     ]
    }
   ],
   "source": [
    "print(a)"
   ]
  },
  {
   "cell_type": "code",
   "execution_count": 7,
   "id": "f8845140",
   "metadata": {},
   "outputs": [],
   "source": [
    "a.append(40)"
   ]
  },
  {
   "cell_type": "code",
   "execution_count": 9,
   "id": "228c88c8",
   "metadata": {},
   "outputs": [
    {
     "name": "stdout",
     "output_type": "stream",
     "text": [
      "[10, 10, 20, 20, 30, 30, 40]\n"
     ]
    }
   ],
   "source": [
    "print(a)"
   ]
  },
  {
   "cell_type": "code",
   "execution_count": 11,
   "id": "f76b768e",
   "metadata": {},
   "outputs": [],
   "source": [
    "# modify values\n",
    "a[3]=50"
   ]
  },
  {
   "cell_type": "code",
   "execution_count": 12,
   "id": "59b9ca5a",
   "metadata": {},
   "outputs": [
    {
     "name": "stdout",
     "output_type": "stream",
     "text": [
      "[10, 10, 20, 50, 30, 30, 40]\n"
     ]
    }
   ],
   "source": [
    "print(a)"
   ]
  },
  {
   "cell_type": "code",
   "execution_count": 13,
   "id": "e9f9ff39",
   "metadata": {},
   "outputs": [
    {
     "data": {
      "text/plain": [
       "50"
      ]
     },
     "execution_count": 13,
     "metadata": {},
     "output_type": "execute_result"
    }
   ],
   "source": [
    "# remove values \n",
    "a.pop(3)"
   ]
  },
  {
   "cell_type": "code",
   "execution_count": 14,
   "id": "25a9eb4e",
   "metadata": {},
   "outputs": [
    {
     "name": "stdout",
     "output_type": "stream",
     "text": [
      "[10, 10, 20, 30, 30, 40]\n"
     ]
    }
   ],
   "source": [
    "print(a)"
   ]
  },
  {
   "cell_type": "code",
   "execution_count": 15,
   "id": "0083c970",
   "metadata": {},
   "outputs": [],
   "source": [
    "a[4]=40"
   ]
  },
  {
   "cell_type": "code",
   "execution_count": 16,
   "id": "19f4e04b",
   "metadata": {},
   "outputs": [
    {
     "name": "stdout",
     "output_type": "stream",
     "text": [
      "[10, 10, 20, 30, 40, 40]\n"
     ]
    }
   ],
   "source": [
    "print(a)"
   ]
  },
  {
   "cell_type": "code",
   "execution_count": 17,
   "id": "ff906552",
   "metadata": {},
   "outputs": [
    {
     "data": {
      "text/plain": [
       "10"
      ]
     },
     "execution_count": 17,
     "metadata": {},
     "output_type": "execute_result"
    }
   ],
   "source": [
    "a.pop(0)"
   ]
  },
  {
   "cell_type": "code",
   "execution_count": 18,
   "id": "d2f322c3",
   "metadata": {},
   "outputs": [
    {
     "name": "stdout",
     "output_type": "stream",
     "text": [
      "[10, 20, 30, 40, 40]\n"
     ]
    }
   ],
   "source": [
    "print(a)"
   ]
  },
  {
   "cell_type": "code",
   "execution_count": 25,
   "id": "62a9d71a",
   "metadata": {},
   "outputs": [],
   "source": [
    "a[0]=10"
   ]
  },
  {
   "cell_type": "code",
   "execution_count": 26,
   "id": "551ff635",
   "metadata": {},
   "outputs": [],
   "source": [
    "a[3]=40"
   ]
  },
  {
   "cell_type": "code",
   "execution_count": 27,
   "id": "14601d1a",
   "metadata": {},
   "outputs": [
    {
     "name": "stdout",
     "output_type": "stream",
     "text": [
      "[10, 20, 30, 40, 40]\n"
     ]
    }
   ],
   "source": [
    "print(a)"
   ]
  },
  {
   "cell_type": "code",
   "execution_count": 28,
   "id": "2f68b300",
   "metadata": {},
   "outputs": [],
   "source": [
    "# insert values\n",
    "a.insert(4,50)"
   ]
  },
  {
   "cell_type": "code",
   "execution_count": 29,
   "id": "2607a658",
   "metadata": {},
   "outputs": [
    {
     "name": "stdout",
     "output_type": "stream",
     "text": [
      "[10, 20, 30, 40, 50, 40]\n"
     ]
    }
   ],
   "source": [
    "print(a)"
   ]
  },
  {
   "cell_type": "code",
   "execution_count": 30,
   "id": "dbf0756e",
   "metadata": {},
   "outputs": [
    {
     "name": "stdout",
     "output_type": "stream",
     "text": [
      "30\n"
     ]
    }
   ],
   "source": [
    "print(a[2])"
   ]
  },
  {
   "cell_type": "markdown",
   "id": "06d28cf7",
   "metadata": {},
   "source": [
    "# NOTE\n",
    "     Lists are used to store Multiple items in a single variable.Lists items are changable,ordered,and allow duplicate values.\n",
    "     Lists are indexed,the first item has index[0],the second item has index [1] etc.\n",
    "        lists are created using square brackets\n",
    "     "
   ]
  },
  {
   "cell_type": "markdown",
   "id": "ed722739",
   "metadata": {},
   "source": [
    "# set"
   ]
  },
  {
   "cell_type": "code",
   "execution_count": 33,
   "id": "215524eb",
   "metadata": {},
   "outputs": [],
   "source": [
    "A={10,20,30,40,50}"
   ]
  },
  {
   "cell_type": "code",
   "execution_count": 34,
   "id": "19c4c274",
   "metadata": {},
   "outputs": [
    {
     "name": "stdout",
     "output_type": "stream",
     "text": [
      "<class 'set'>\n"
     ]
    }
   ],
   "source": [
    "print(type(A))"
   ]
  },
  {
   "cell_type": "code",
   "execution_count": 35,
   "id": "03ac5a42",
   "metadata": {},
   "outputs": [],
   "source": [
    "A.add(60)"
   ]
  },
  {
   "cell_type": "code",
   "execution_count": 36,
   "id": "cf00f954",
   "metadata": {},
   "outputs": [
    {
     "name": "stdout",
     "output_type": "stream",
     "text": [
      "{50, 20, 40, 10, 60, 30}\n"
     ]
    }
   ],
   "source": [
    "#unordered\n",
    "print(A)"
   ]
  },
  {
   "cell_type": "code",
   "execution_count": 37,
   "id": "373fcba9",
   "metadata": {},
   "outputs": [],
   "source": [
    "A.remove(20)"
   ]
  },
  {
   "cell_type": "code",
   "execution_count": 38,
   "id": "4bc0db90",
   "metadata": {},
   "outputs": [
    {
     "name": "stdout",
     "output_type": "stream",
     "text": [
      "{50, 40, 10, 60, 30}\n"
     ]
    }
   ],
   "source": [
    "#unindexed\n",
    "print(A)"
   ]
  },
  {
   "cell_type": "code",
   "execution_count": 39,
   "id": "42820815",
   "metadata": {},
   "outputs": [],
   "source": [
    "A.discard(10)"
   ]
  },
  {
   "cell_type": "code",
   "execution_count": 40,
   "id": "d5610940",
   "metadata": {},
   "outputs": [
    {
     "name": "stdout",
     "output_type": "stream",
     "text": [
      "{50, 40, 60, 30}\n"
     ]
    }
   ],
   "source": [
    "print(A)"
   ]
  },
  {
   "cell_type": "code",
   "execution_count": 41,
   "id": "a259d04d",
   "metadata": {},
   "outputs": [
    {
     "data": {
      "text/plain": [
       "50"
      ]
     },
     "execution_count": 41,
     "metadata": {},
     "output_type": "execute_result"
    }
   ],
   "source": [
    "A.pop()"
   ]
  },
  {
   "cell_type": "code",
   "execution_count": 42,
   "id": "9e387a2c",
   "metadata": {},
   "outputs": [
    {
     "name": "stdout",
     "output_type": "stream",
     "text": [
      "{40, 60, 30}\n"
     ]
    }
   ],
   "source": [
    "print(A)"
   ]
  },
  {
   "cell_type": "markdown",
   "id": "f0a0a940",
   "metadata": {},
   "source": [
    "# NOTE:\n",
    "      sets are used to store multiple items in a single variable.\n",
    "      A set is a collection which is unordered,unchangable and unindexed.\n",
    "     *sets are written with curly brackets,\n",
    "     *sets are unordered so we cannot be sure in which order the items will appear\n",
    "     *duplicates not allowed"
   ]
  },
  {
   "cell_type": "markdown",
   "id": "27e08f57",
   "metadata": {},
   "source": [
    "# tuple"
   ]
  },
  {
   "cell_type": "code",
   "execution_count": 44,
   "id": "22467704",
   "metadata": {},
   "outputs": [],
   "source": [
    "B=(\"APPLE\",1,\"TRUE\")"
   ]
  },
  {
   "cell_type": "code",
   "execution_count": 46,
   "id": "52a1664f",
   "metadata": {},
   "outputs": [
    {
     "name": "stdout",
     "output_type": "stream",
     "text": [
      "<class 'tuple'>\n"
     ]
    }
   ],
   "source": [
    "print(type(B))"
   ]
  },
  {
   "cell_type": "code",
   "execution_count": 47,
   "id": "d6ade018",
   "metadata": {},
   "outputs": [],
   "source": [
    "# Allow duplicates\n",
    "\n",
    "B=(\"apple\",\"APPLE\",1,1,\"true\",\"true\")"
   ]
  },
  {
   "cell_type": "code",
   "execution_count": 48,
   "id": "19baeaf2",
   "metadata": {},
   "outputs": [
    {
     "name": "stdout",
     "output_type": "stream",
     "text": [
      "('apple', 'APPLE', 1, 1, 'true', 'true')\n"
     ]
    }
   ],
   "source": [
    "print(B)"
   ]
  },
  {
   "cell_type": "code",
   "execution_count": 49,
   "id": "6f519f1e",
   "metadata": {},
   "outputs": [
    {
     "name": "stdout",
     "output_type": "stream",
     "text": [
      "6\n"
     ]
    }
   ],
   "source": [
    "print(len(B))"
   ]
  },
  {
   "cell_type": "markdown",
   "id": "b654311a",
   "metadata": {},
   "source": [
    "# NOTE:\n",
    "     tupels are used to store multiple items in a single variable.\n",
    "     *tuples are written with round brackets,\n",
    "     *tuple items are ordered,unchangable,and allow duplicate values."
   ]
  },
  {
   "cell_type": "markdown",
   "id": "a3763c17",
   "metadata": {},
   "source": [
    "# Dictionary"
   ]
  },
  {
   "cell_type": "code",
   "execution_count": 50,
   "id": "e1cc3b93",
   "metadata": {},
   "outputs": [],
   "source": [
    "dic={\"A\":10,\"B\":20,\"C\":30}"
   ]
  },
  {
   "cell_type": "code",
   "execution_count": 51,
   "id": "506943d0",
   "metadata": {},
   "outputs": [
    {
     "name": "stdout",
     "output_type": "stream",
     "text": [
      "<class 'dict'>\n"
     ]
    }
   ],
   "source": [
    "print(type(dic))"
   ]
  },
  {
   "cell_type": "code",
   "execution_count": 55,
   "id": "8ef386aa",
   "metadata": {},
   "outputs": [
    {
     "name": "stdout",
     "output_type": "stream",
     "text": [
      "20\n"
     ]
    }
   ],
   "source": [
    "print(dic[\"B\"])"
   ]
  },
  {
   "cell_type": "code",
   "execution_count": 56,
   "id": "249e0fb5",
   "metadata": {},
   "outputs": [
    {
     "name": "stdout",
     "output_type": "stream",
     "text": [
      "{'A': 10, 'B': 20, 'C': 30}\n"
     ]
    }
   ],
   "source": [
    "#ordered\n",
    "print(dic)"
   ]
  },
  {
   "cell_type": "code",
   "execution_count": 59,
   "id": "8e3215cc",
   "metadata": {},
   "outputs": [
    {
     "data": {
      "text/plain": [
       "20"
      ]
     },
     "execution_count": 59,
     "metadata": {},
     "output_type": "execute_result"
    }
   ],
   "source": [
    "#changable\n",
    "dic.pop(\"B\")"
   ]
  },
  {
   "cell_type": "code",
   "execution_count": 60,
   "id": "4754b559",
   "metadata": {},
   "outputs": [
    {
     "name": "stdout",
     "output_type": "stream",
     "text": [
      "<class 'dict'>\n"
     ]
    }
   ],
   "source": [
    "print(dict)"
   ]
  },
  {
   "cell_type": "code",
   "execution_count": 61,
   "id": "88aa1e57",
   "metadata": {},
   "outputs": [],
   "source": [
    "dict.update({\"d\":40})"
   ]
  },
  {
   "cell_type": "code",
   "execution_count": 62,
   "id": "5cfca0eb",
   "metadata": {},
   "outputs": [
    {
     "data": {
      "text/plain": [
       "dict"
      ]
     },
     "execution_count": 62,
     "metadata": {},
     "output_type": "execute_result"
    }
   ],
   "source": [
    "dict"
   ]
  },
  {
   "cell_type": "markdown",
   "id": "2d474fcd",
   "metadata": {},
   "source": [
    "# NOTE:\n",
    "      dictionaries are used to store data values in key:value pairs\n",
    "      *dictionary items are ordered,changable,and does  not allow duplicate values\n",
    "      * we can add or delete values after the dictionary has been created\n",
    "      *dictionary cannot have two items with the same key:pairs\n",
    "     "
   ]
  },
  {
   "cell_type": "code",
   "execution_count": null,
   "id": "c1faa27e",
   "metadata": {},
   "outputs": [],
   "source": []
  }
 ],
 "metadata": {
  "kernelspec": {
   "display_name": "Python 3 (ipykernel)",
   "language": "python",
   "name": "python3"
  },
  "language_info": {
   "codemirror_mode": {
    "name": "ipython",
    "version": 3
   },
   "file_extension": ".py",
   "mimetype": "text/x-python",
   "name": "python",
   "nbconvert_exporter": "python",
   "pygments_lexer": "ipython3",
   "version": "3.9.13"
  }
 },
 "nbformat": 4,
 "nbformat_minor": 5
}
