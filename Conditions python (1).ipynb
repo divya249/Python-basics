{
 "cells": [
  {
   "cell_type": "markdown",
   "id": "e7a26212",
   "metadata": {},
   "source": [
    "# python conditions"
   ]
  },
  {
   "cell_type": "markdown",
   "id": "e97c9f57",
   "metadata": {},
   "source": [
    " \n",
    "1.Equals: a==b\n",
    "2.Not Equals: a!=b\n",
    "3.Less than: a<b\n",
    "4.Less than or Equal to:a<=b\n",
    "5.Greater than: a>b\n",
    "6.Greater than or Equal to: a>=b"
   ]
  },
  {
   "cell_type": "code",
   "execution_count": 16,
   "id": "8973bb11",
   "metadata": {},
   "outputs": [
    {
     "name": "stdout",
     "output_type": "stream",
     "text": [
      "Enter A: 10\n",
      "Enter B: 20\n",
      "b is greater than a\n"
     ]
    }
   ],
   "source": [
    "\n",
    "a=int(input(\"Enter A: \"))\n",
    "b=int(input(\"Enter B: \"))\n",
    "if a<b:\n",
    "    print(\"b is greater than a\")\n"
   ]
  },
  {
   "cell_type": "code",
   "execution_count": 15,
   "id": "33ed86bb",
   "metadata": {},
   "outputs": [
    {
     "name": "stdout",
     "output_type": "stream",
     "text": [
      "Enter A: 20\n",
      "Enter B: 20\n",
      "Both are same value\n"
     ]
    }
   ],
   "source": [
    "# Elif statement\n",
    "\n",
    "\n",
    "a=int(input(\"Enter A: \"))\n",
    "b=int(input(\"Enter B: \"))\n",
    "\n",
    "if b>a:\n",
    "    print(\"b is greater than a\")\n",
    "elif a==b:\n",
    "    print(\"Both are same value\")"
   ]
  },
  {
   "cell_type": "code",
   "execution_count": 19,
   "id": "65006ca7",
   "metadata": {},
   "outputs": [
    {
     "name": "stdout",
     "output_type": "stream",
     "text": [
      "Enter A:20\n",
      "Enter B: 40\n",
      "a is less than b\n"
     ]
    }
   ],
   "source": [
    "# else statement\n",
    "\n",
    "\n",
    "a=int(input(\"Enter A:\"))\n",
    "b=int(input(\"Enter B: \"))\n",
    "\n",
    "if a>b:\n",
    "    print(\"a is greater than b\")\n",
    "elif a==b:\n",
    "    print(\"both are equal\")\n",
    "else:\n",
    "    print(\"a is less than b\")\n"
   ]
  },
  {
   "cell_type": "code",
   "execution_count": 22,
   "id": "b2d54438",
   "metadata": {},
   "outputs": [
    {
     "name": "stdout",
     "output_type": "stream",
     "text": [
      "Enter A: 20\n",
      "Enter B: 40\n",
      "Enter c:30\n",
      "b is greater than c and a\n"
     ]
    }
   ],
   "source": [
    "# and statement\n",
    "\n",
    "a=int(input(\"Enter A: \"))\n",
    "b=int(input(\"Enter B: \"))\n",
    "c=int(input(\"Enter c:\"))\n",
    "if c>a and c>b:\n",
    "    print(\"c is greater than a and b\")\n",
    "elif a>b and a>c:\n",
    "    print( \" a is greater than b and c\")\n",
    "else:\n",
    "    print('b is greater than c and a')\n",
    "    "
   ]
  },
  {
   "cell_type": "code",
   "execution_count": 24,
   "id": "33d66005",
   "metadata": {},
   "outputs": [
    {
     "name": "stdout",
     "output_type": "stream",
     "text": [
      "Enter A: 30\n",
      "Enter B: 4\n",
      "atleast one of the conditions is true\n"
     ]
    }
   ],
   "source": [
    "# or statement\n",
    "\n",
    "a=int(input(\"Enter A: \"))\n",
    "b=int(input(\"Enter B: \"))\n",
    "if a>b or b>a:\n",
    "    print(\"atleast one of the conditions is true\")\n",
    "\n"
   ]
  },
  {
   "cell_type": "code",
   "execution_count": 33,
   "id": "b09de4bc",
   "metadata": {},
   "outputs": [
    {
     "name": "stdout",
     "output_type": "stream",
     "text": [
      "enter A: 34\n",
      "x is above 20\n",
      "not above 40\n"
     ]
    }
   ],
   "source": [
    "# Nested if\n",
    "x=int(input(\"enter A: \"))\n",
    "\n",
    "if x> 20:\n",
    "    print(\"x is above 20\")\n",
    "    if x>40 :\n",
    "        print(\"and also x is above 40\")\n",
    "    else:\n",
    "        print(\"not above 40\")"
   ]
  },
  {
   "cell_type": "code",
   "execution_count": 35,
   "id": "ce848ba5",
   "metadata": {},
   "outputs": [
    {
     "name": "stdout",
     "output_type": "stream",
     "text": [
      "enter the value:20\n",
      "enter the value:40\n",
      "enter the value:60\n",
      "c is large number\n"
     ]
    }
   ],
   "source": [
    "a=int(input(\"enter the value:\"))\n",
    "b=int(input(\"enter the value:\"))\n",
    "c=int(input(\"enter the value:\"))\n",
    "if a>b and a>c:\n",
    "    print(\"a is large number\")\n",
    "if b>a and b>c:\n",
    "    print(\"b is large number\")\n",
    "if c>a and c>b:\n",
    "    print(\"c is large number\")"
   ]
  },
  {
   "cell_type": "code",
   "execution_count": 39,
   "id": "c3f98700",
   "metadata": {},
   "outputs": [
    {
     "name": "stdout",
     "output_type": "stream",
     "text": [
      " a is equal to b\n"
     ]
    }
   ],
   "source": [
    "a=10\n",
    "b=10\n",
    "if a!=b:\n",
    "    print(\"a not equal to b\")\n",
    "print(\" a is equal to b\")"
   ]
  },
  {
   "cell_type": "code",
   "execution_count": null,
   "id": "572fa818",
   "metadata": {},
   "outputs": [],
   "source": []
  }
 ],
 "metadata": {
  "kernelspec": {
   "display_name": "Python 3 (ipykernel)",
   "language": "python",
   "name": "python3"
  },
  "language_info": {
   "codemirror_mode": {
    "name": "ipython",
    "version": 3
   },
   "file_extension": ".py",
   "mimetype": "text/x-python",
   "name": "python",
   "nbconvert_exporter": "python",
   "pygments_lexer": "ipython3",
   "version": "3.9.13"
  }
 },
 "nbformat": 4,
 "nbformat_minor": 5
}
