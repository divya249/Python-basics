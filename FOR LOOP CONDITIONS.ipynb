{
 "cells": [
  {
   "cell_type": "markdown",
   "id": "25596a7d",
   "metadata": {},
   "source": [
    "# LOOP"
   ]
  },
  {
   "cell_type": "markdown",
   "id": "6c6271c2",
   "metadata": {},
   "source": [
    "# 1.FOR LOOP\n"
   ]
  },
  {
   "cell_type": "code",
   "execution_count": 5,
   "id": "a0f7094d",
   "metadata": {},
   "outputs": [
    {
     "name": "stdout",
     "output_type": "stream",
     "text": [
      "naveen\n",
      "mathan\n",
      "kathir\n",
      "nithish\n"
     ]
    }
   ],
   "source": [
    "# FOR LOOP\n",
    "\n",
    "students=['naveen','mathan','kathir','nithish']\n",
    "for  x in students:\n",
    "    print(x)"
   ]
  },
  {
   "cell_type": "code",
   "execution_count": 8,
   "id": "7bcc9dd5",
   "metadata": {},
   "outputs": [
    {
     "name": "stdout",
     "output_type": "stream",
     "text": [
      "n\n",
      "a\n",
      "v\n",
      "e\n",
      "e\n",
      "n\n"
     ]
    }
   ],
   "source": [
    "# for loop through a string\n",
    "\n",
    "for x in \"naveen\":\n",
    "    print(x)"
   ]
  },
  {
   "cell_type": "code",
   "execution_count": 18,
   "id": "d9dc75e7",
   "metadata": {},
   "outputs": [
    {
     "name": "stdout",
     "output_type": "stream",
     "text": [
      "naveen\n",
      "mathan\n",
      "kathir\n"
     ]
    }
   ],
   "source": [
    "# break statement in for loop\n",
    " \n",
    "students=['naveen','mathan','kathir','nithish']\n",
    "for  x in students:\n",
    "    print(x)\n",
    "    if x=='kathir':\n",
    "        break"
   ]
  },
  {
   "cell_type": "code",
   "execution_count": 17,
   "id": "16dcb31b",
   "metadata": {},
   "outputs": [
    {
     "name": "stdout",
     "output_type": "stream",
     "text": [
      "tamil\n",
      "englsih\n"
     ]
    }
   ],
   "source": [
    "subjects=['tamil','englsih','maths','science','social']\n",
    "for  x in subjects:\n",
    "    if x=='maths':\n",
    "        break\n",
    "    print(x)"
   ]
  },
  {
   "cell_type": "code",
   "execution_count": 21,
   "id": "444a2e38",
   "metadata": {},
   "outputs": [
    {
     "name": "stdout",
     "output_type": "stream",
     "text": [
      "naveen\n",
      "mathan\n",
      "nithish\n"
     ]
    }
   ],
   "source": [
    "# continue statement\n",
    "\n",
    "\n",
    "students=['naveen','mathan','kathir','nithish']\n",
    "for x in students:\n",
    "    if x=='kathir':\n",
    "        continue\n",
    "    print(x)\n"
   ]
  },
  {
   "cell_type": "code",
   "execution_count": 22,
   "id": "0a97b3bb",
   "metadata": {},
   "outputs": [
    {
     "name": "stdout",
     "output_type": "stream",
     "text": [
      "tamil\n",
      "englsih\n",
      "science\n",
      "social\n"
     ]
    }
   ],
   "source": [
    "subjects=['tamil','englsih','maths','science','social']\n",
    "for  x in subjects:\n",
    "    if x=='maths':\n",
    "        continue\n",
    "    print(x)"
   ]
  },
  {
   "cell_type": "code",
   "execution_count": 26,
   "id": "863bfff9",
   "metadata": {},
   "outputs": [
    {
     "name": "stdout",
     "output_type": "stream",
     "text": [
      "0\n",
      "1\n",
      "2\n",
      "3\n",
      "4\n"
     ]
    }
   ],
   "source": [
    "# range function\n",
    "\n",
    "for i in range(5):\n",
    "    print(i)"
   ]
  },
  {
   "cell_type": "code",
   "execution_count": 27,
   "id": "d60a81a9",
   "metadata": {},
   "outputs": [
    {
     "name": "stdout",
     "output_type": "stream",
     "text": [
      "100\n",
      "101\n",
      "102\n",
      "103\n",
      "104\n"
     ]
    }
   ],
   "source": [
    "for i in range(100,105):\n",
    "    print(i)"
   ]
  },
  {
   "cell_type": "code",
   "execution_count": 28,
   "id": "dcf678fa",
   "metadata": {},
   "outputs": [
    {
     "name": "stdout",
     "output_type": "stream",
     "text": [
      "2\n",
      "5\n",
      "8\n",
      "11\n",
      "14\n",
      "17\n"
     ]
    }
   ],
   "source": [
    "for i in range(2,20,3):\n",
    "    print(i)"
   ]
  },
  {
   "cell_type": "code",
   "execution_count": 32,
   "id": "df00fffe",
   "metadata": {},
   "outputs": [
    {
     "name": "stdout",
     "output_type": "stream",
     "text": [
      "0\n",
      "1\n",
      "2\n",
      "3\n",
      "4\n",
      "5\n",
      "**Ended**\n"
     ]
    }
   ],
   "source": [
    "#else in for loop\n",
    "for x in range(6):\n",
    "    print(x)\n",
    "else:\n",
    "    print(\"**Ended**\")"
   ]
  },
  {
   "cell_type": "code",
   "execution_count": 38,
   "id": "1e7133fc",
   "metadata": {},
   "outputs": [
    {
     "name": "stdout",
     "output_type": "stream",
     "text": [
      "1\n",
      "2\n",
      "3\n",
      "4\n",
      "5\n",
      "6\n",
      "7\n",
      "8\n",
      "9\n",
      "10\n",
      "Ended\n"
     ]
    }
   ],
   "source": [
    "for x in range(11):\n",
    "    if x==0:continue\n",
    "    print(x)\n",
    "else:\n",
    "    print(\"Ended\")\n",
    "        \n",
    "        \n",
    "        \n",
    "        \n",
    "        \n",
    "        \n",
    "        \n",
    "        \n",
    "        \n",
    "        \n",
    "        \n",
    "        "
   ]
  },
  {
   "cell_type": "code",
   "execution_count": 43,
   "id": "61a5b7cd",
   "metadata": {},
   "outputs": [
    {
     "name": "stdout",
     "output_type": "stream",
     "text": [
      "red apple\n",
      "red saree\n",
      "red land\n",
      "red snow\n",
      "red stone\n",
      "yellow apple\n",
      "yellow saree\n",
      "yellow land\n",
      "yellow snow\n",
      "yellow stone\n",
      "green apple\n",
      "green saree\n",
      "green land\n",
      "green snow\n",
      "green stone\n",
      "white apple\n",
      "white saree\n",
      "white land\n",
      "white snow\n",
      "white stone\n",
      "black apple\n",
      "black saree\n",
      "black land\n",
      "black snow\n",
      "black stone\n"
     ]
    }
   ],
   "source": [
    "# Nested loop\n",
    "\n",
    "color=['red','yellow','green','white','black']\n",
    "things=['apple','saree','land','snow','stone']\n",
    "\n",
    "for x in color:\n",
    "    for y in things:\n",
    "        print(x, y)"
   ]
  },
  {
   "cell_type": "code",
   "execution_count": 45,
   "id": "d3445cb9",
   "metadata": {},
   "outputs": [],
   "source": [
    "#pass statement\n",
    "\n",
    "\n",
    "for x in['1,2,3']:\n",
    "    pass"
   ]
  },
  {
   "cell_type": "code",
   "execution_count": 46,
   "id": "a9f09fe9",
   "metadata": {},
   "outputs": [],
   "source": [
    "for x in ['car','bike','cycle']:\n",
    "    pass"
   ]
  },
  {
   "cell_type": "markdown",
   "id": "73faecd5",
   "metadata": {},
   "source": [
    "# having an empty for loop like this,would raise an error without the pass statement"
   ]
  },
  {
   "cell_type": "code",
   "execution_count": null,
   "id": "f229e51e",
   "metadata": {},
   "outputs": [],
   "source": []
  }
 ],
 "metadata": {
  "kernelspec": {
   "display_name": "Python 3 (ipykernel)",
   "language": "python",
   "name": "python3"
  },
  "language_info": {
   "codemirror_mode": {
    "name": "ipython",
    "version": 3
   },
   "file_extension": ".py",
   "mimetype": "text/x-python",
   "name": "python",
   "nbconvert_exporter": "python",
   "pygments_lexer": "ipython3",
   "version": "3.9.13"
  }
 },
 "nbformat": 4,
 "nbformat_minor": 5
}
