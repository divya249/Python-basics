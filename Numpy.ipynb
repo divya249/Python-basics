{
 "cells": [
  {
   "cell_type": "markdown",
   "id": "6726a75f",
   "metadata": {},
   "source": [
    "#  numpy - python libraries"
   ]
  },
  {
   "cell_type": "code",
   "execution_count": 1,
   "id": "db009f57",
   "metadata": {},
   "outputs": [],
   "source": [
    "# numpy introduction\n",
    "\n"
   ]
  },
  {
   "cell_type": "raw",
   "id": "265b795d",
   "metadata": {},
   "source": [
    "# how to install numpy\n",
    "\n",
    "!pip install numpy\n",
    "\n"
   ]
  },
  {
   "cell_type": "code",
   "execution_count": 2,
   "id": "8bdc385b",
   "metadata": {},
   "outputs": [],
   "source": [
    "import numpy as np"
   ]
  },
  {
   "cell_type": "code",
   "execution_count": 5,
   "id": "f6dc54d0",
   "metadata": {},
   "outputs": [],
   "source": [
    "x=np.array([0,1,2,3,4,5,6,7])"
   ]
  },
  {
   "cell_type": "code",
   "execution_count": 6,
   "id": "49b677c5",
   "metadata": {},
   "outputs": [
    {
     "name": "stdout",
     "output_type": "stream",
     "text": [
      "[0 1 2 3 4 5 6 7]\n"
     ]
    }
   ],
   "source": [
    "print(x)"
   ]
  },
  {
   "cell_type": "code",
   "execution_count": 7,
   "id": "694c7f40",
   "metadata": {},
   "outputs": [
    {
     "name": "stdout",
     "output_type": "stream",
     "text": [
      "['ALLOW_THREADS', 'BUFSIZE', 'CLIP', 'DataSource', 'ERR_CALL', 'ERR_DEFAULT', 'ERR_IGNORE', 'ERR_LOG', 'ERR_PRINT', 'ERR_RAISE', 'ERR_WARN', 'FLOATING_POINT_SUPPORT', 'FPE_DIVIDEBYZERO', 'FPE_INVALID', 'FPE_OVERFLOW', 'FPE_UNDERFLOW', 'False_', 'Inf', 'Infinity', 'MAXDIMS', 'MAY_SHARE_BOUNDS', 'MAY_SHARE_EXACT', 'NAN', 'NINF', 'NZERO', 'NaN', 'PINF', 'PZERO', 'RAISE', 'RankWarning', 'SHIFT_DIVIDEBYZERO', 'SHIFT_INVALID', 'SHIFT_OVERFLOW', 'SHIFT_UNDERFLOW', 'ScalarType', 'True_', 'UFUNC_BUFSIZE_DEFAULT', 'UFUNC_PYVALS_NAME', 'WRAP', '_CopyMode', '_NoValue', '_UFUNC_API', '__NUMPY_SETUP__', '__all__', '__builtins__', '__cached__', '__config__', '__deprecated_attrs__', '__dir__', '__doc__', '__expired_functions__', '__file__', '__former_attrs__', '__future_scalars__', '__getattr__', '__loader__', '__name__', '__package__', '__path__', '__spec__', '__version__', '_add_newdoc_ufunc', '_builtins', '_distributor_init', '_financial_names', '_get_promotion_state', '_globals', '_int_extended_msg', '_mat', '_no_nep50_warning', '_pyinstaller_hooks_dir', '_pytesttester', '_set_promotion_state', '_specific_msg', '_typing', '_using_numpy2_behavior', '_utils', 'abs', 'absolute', 'add', 'add_docstring', 'add_newdoc', 'add_newdoc_ufunc', 'all', 'allclose', 'alltrue', 'amax', 'amin', 'angle', 'any', 'append', 'apply_along_axis', 'apply_over_axes', 'arange', 'arccos', 'arccosh', 'arcsin', 'arcsinh', 'arctan', 'arctan2', 'arctanh', 'argmax', 'argmin', 'argpartition', 'argsort', 'argwhere', 'around', 'array', 'array2string', 'array_equal', 'array_equiv', 'array_repr', 'array_split', 'array_str', 'asanyarray', 'asarray', 'asarray_chkfinite', 'ascontiguousarray', 'asfarray', 'asfortranarray', 'asmatrix', 'atleast_1d', 'atleast_2d', 'atleast_3d', 'average', 'bartlett', 'base_repr', 'binary_repr', 'bincount', 'bitwise_and', 'bitwise_not', 'bitwise_or', 'bitwise_xor', 'blackman', 'block', 'bmat', 'bool_', 'broadcast', 'broadcast_arrays', 'broadcast_shapes', 'broadcast_to', 'busday_count', 'busday_offset', 'busdaycalendar', 'byte', 'byte_bounds', 'bytes_', 'c_', 'can_cast', 'cast', 'cbrt', 'cdouble', 'ceil', 'cfloat', 'char', 'character', 'chararray', 'choose', 'clip', 'clongdouble', 'clongfloat', 'column_stack', 'common_type', 'compare_chararrays', 'compat', 'complex128', 'complex64', 'complex_', 'complexfloating', 'compress', 'concatenate', 'conj', 'conjugate', 'convolve', 'copy', 'copysign', 'copyto', 'corrcoef', 'correlate', 'cos', 'cosh', 'count_nonzero', 'cov', 'cross', 'csingle', 'ctypeslib', 'cumprod', 'cumproduct', 'cumsum', 'datetime64', 'datetime_as_string', 'datetime_data', 'deg2rad', 'degrees', 'delete', 'deprecate', 'deprecate_with_doc', 'diag', 'diag_indices', 'diag_indices_from', 'diagflat', 'diagonal', 'diff', 'digitize', 'disp', 'divide', 'divmod', 'dot', 'double', 'dsplit', 'dstack', 'dtype', 'dtypes', 'e', 'ediff1d', 'einsum', 'einsum_path', 'emath', 'empty', 'empty_like', 'equal', 'errstate', 'euler_gamma', 'exceptions', 'exp', 'exp2', 'expand_dims', 'expm1', 'extract', 'eye', 'fabs', 'fastCopyAndTranspose', 'fft', 'fill_diagonal', 'find_common_type', 'finfo', 'fix', 'flatiter', 'flatnonzero', 'flexible', 'flip', 'fliplr', 'flipud', 'float16', 'float32', 'float64', 'float_', 'float_power', 'floating', 'floor', 'floor_divide', 'fmax', 'fmin', 'fmod', 'format_float_positional', 'format_float_scientific', 'format_parser', 'frexp', 'from_dlpack', 'frombuffer', 'fromfile', 'fromfunction', 'fromiter', 'frompyfunc', 'fromregex', 'fromstring', 'full', 'full_like', 'gcd', 'generic', 'genfromtxt', 'geomspace', 'get_array_wrap', 'get_include', 'get_printoptions', 'getbufsize', 'geterr', 'geterrcall', 'geterrobj', 'gradient', 'greater', 'greater_equal', 'half', 'hamming', 'hanning', 'heaviside', 'histogram', 'histogram2d', 'histogram_bin_edges', 'histogramdd', 'hsplit', 'hstack', 'hypot', 'i0', 'identity', 'iinfo', 'imag', 'in1d', 'index_exp', 'indices', 'inexact', 'inf', 'info', 'infty', 'inner', 'insert', 'int16', 'int32', 'int64', 'int8', 'int_', 'intc', 'integer', 'interp', 'intersect1d', 'intp', 'invert', 'is_busday', 'isclose', 'iscomplex', 'iscomplexobj', 'isfinite', 'isfortran', 'isin', 'isinf', 'isnan', 'isnat', 'isneginf', 'isposinf', 'isreal', 'isrealobj', 'isscalar', 'issctype', 'issubclass_', 'issubdtype', 'issubsctype', 'iterable', 'ix_', 'kaiser', 'kron', 'lcm', 'ldexp', 'left_shift', 'less', 'less_equal', 'lexsort', 'lib', 'linalg', 'linspace', 'little_endian', 'load', 'loadtxt', 'log', 'log10', 'log1p', 'log2', 'logaddexp', 'logaddexp2', 'logical_and', 'logical_not', 'logical_or', 'logical_xor', 'logspace', 'longcomplex', 'longdouble', 'longfloat', 'longlong', 'lookfor', 'ma', 'mask_indices', 'mat', 'matmul', 'matrix', 'max', 'maximum', 'maximum_sctype', 'may_share_memory', 'mean', 'median', 'memmap', 'meshgrid', 'mgrid', 'min', 'min_scalar_type', 'minimum', 'mintypecode', 'mod', 'modf', 'moveaxis', 'msort', 'multiply', 'nan', 'nan_to_num', 'nanargmax', 'nanargmin', 'nancumprod', 'nancumsum', 'nanmax', 'nanmean', 'nanmedian', 'nanmin', 'nanpercentile', 'nanprod', 'nanquantile', 'nanstd', 'nansum', 'nanvar', 'nbytes', 'ndarray', 'ndenumerate', 'ndim', 'ndindex', 'nditer', 'negative', 'nested_iters', 'newaxis', 'nextafter', 'nonzero', 'not_equal', 'numarray', 'number', 'obj2sctype', 'object_', 'ogrid', 'oldnumeric', 'ones', 'ones_like', 'outer', 'packbits', 'pad', 'partition', 'percentile', 'pi', 'piecewise', 'place', 'poly', 'poly1d', 'polyadd', 'polyder', 'polydiv', 'polyfit', 'polyint', 'polymul', 'polynomial', 'polysub', 'polyval', 'positive', 'power', 'printoptions', 'prod', 'product', 'promote_types', 'ptp', 'put', 'put_along_axis', 'putmask', 'quantile', 'r_', 'rad2deg', 'radians', 'random', 'ravel', 'ravel_multi_index', 'real', 'real_if_close', 'rec', 'recarray', 'recfromcsv', 'recfromtxt', 'reciprocal', 'record', 'remainder', 'repeat', 'require', 'reshape', 'resize', 'result_type', 'right_shift', 'rint', 'roll', 'rollaxis', 'roots', 'rot90', 'round', 'round_', 'row_stack', 's_', 'safe_eval', 'save', 'savetxt', 'savez', 'savez_compressed', 'sctype2char', 'sctypeDict', 'sctypes', 'searchsorted', 'select', 'set_numeric_ops', 'set_printoptions', 'set_string_function', 'setbufsize', 'setdiff1d', 'seterr', 'seterrcall', 'seterrobj', 'setxor1d', 'shape', 'shares_memory', 'short', 'show_config', 'show_runtime', 'sign', 'signbit', 'signedinteger', 'sin', 'sinc', 'single', 'singlecomplex', 'sinh', 'size', 'sometrue', 'sort', 'sort_complex', 'source', 'spacing', 'split', 'sqrt', 'square', 'squeeze', 'stack', 'std', 'str_', 'string_', 'subtract', 'sum', 'swapaxes', 'take', 'take_along_axis', 'tan', 'tanh', 'tensordot', 'test', 'testing', 'tile', 'timedelta64', 'trace', 'tracemalloc_domain', 'transpose', 'trapz', 'tri', 'tril', 'tril_indices', 'tril_indices_from', 'trim_zeros', 'triu', 'triu_indices', 'triu_indices_from', 'true_divide', 'trunc', 'typecodes', 'typename', 'ubyte', 'ufunc', 'uint', 'uint16', 'uint32', 'uint64', 'uint8', 'uintc', 'uintp', 'ulonglong', 'unicode_', 'union1d', 'unique', 'unpackbits', 'unravel_index', 'unsignedinteger', 'unwrap', 'ushort', 'vander', 'var', 'vdot', 'vectorize', 'version', 'void', 'vsplit', 'vstack', 'where', 'who', 'zeros', 'zeros_like']\n"
     ]
    }
   ],
   "source": [
    "print(dir(np))"
   ]
  },
  {
   "cell_type": "code",
   "execution_count": 12,
   "id": "bee2c077",
   "metadata": {},
   "outputs": [
    {
     "name": "stdout",
     "output_type": "stream",
     "text": [
      "1.26.1\n"
     ]
    }
   ],
   "source": [
    "print(np.__version__)"
   ]
  },
  {
   "cell_type": "code",
   "execution_count": 16,
   "id": "d70cc9c8",
   "metadata": {},
   "outputs": [
    {
     "name": "stdout",
     "output_type": "stream",
     "text": [
      "[1 2 3 4 5 6]\n",
      "<class 'numpy.ndarray'>\n"
     ]
    }
   ],
   "source": [
    "# how to crate arrays-ndarray-list and tuple\n",
    "x=np.array((1,2,3,4,5,6))\n",
    "print(x)\n",
    "print(type(x))"
   ]
  },
  {
   "cell_type": "code",
   "execution_count": 29,
   "id": "fec9632e",
   "metadata": {},
   "outputs": [
    {
     "name": "stdout",
     "output_type": "stream",
     "text": [
      "[100]\n"
     ]
    }
   ],
   "source": [
    "# dimensions(nested array)\n",
    "\n",
    "\n",
    "# 0=dimension array or scalars\n",
    "\n",
    "y=np.array([100])\n",
    "print(y)"
   ]
  },
  {
   "cell_type": "code",
   "execution_count": 30,
   "id": "cf2fe280",
   "metadata": {},
   "outputs": [
    {
     "name": "stdout",
     "output_type": "stream",
     "text": [
      "[1 2 3 4]\n"
     ]
    }
   ],
   "source": [
    "# 1 dimension array\n",
    "\n",
    "z=np.array([1,2,3,4])\n",
    "print(z)"
   ]
  },
  {
   "cell_type": "code",
   "execution_count": 31,
   "id": "8ffaca67",
   "metadata": {},
   "outputs": [
    {
     "name": "stdout",
     "output_type": "stream",
     "text": [
      "[[2 4 5]\n",
      " [6 7 8]]\n"
     ]
    }
   ],
   "source": [
    "# 2 dimension array\n",
    "\n",
    "d=np.array([[2,4,5],[6,7,8]])\n",
    "print(d)"
   ]
  },
  {
   "cell_type": "code",
   "execution_count": 32,
   "id": "fc390f21",
   "metadata": {},
   "outputs": [
    {
     "name": "stdout",
     "output_type": "stream",
     "text": [
      "[[[1 2 3]\n",
      "  [4 5 6]\n",
      "  [1 2 3]\n",
      "  [4 5 6]]]\n"
     ]
    }
   ],
   "source": [
    "# 3 - dimension array\n",
    "\n",
    "H=np.array([[[1,2,3],[4,5,6],[1,2,3],[4,5,6]]])\n",
    "print(H)"
   ]
  },
  {
   "cell_type": "code",
   "execution_count": 74,
   "id": "adc211f4",
   "metadata": {},
   "outputs": [
    {
     "name": "stdout",
     "output_type": "stream",
     "text": [
      "1\n"
     ]
    }
   ],
   "source": [
    "# how to check dimension\n",
    "print(y.ndim)"
   ]
  },
  {
   "cell_type": "code",
   "execution_count": 35,
   "id": "9b2c37ff",
   "metadata": {},
   "outputs": [
    {
     "name": "stdout",
     "output_type": "stream",
     "text": [
      "2\n"
     ]
    }
   ],
   "source": [
    "print(d.ndim)"
   ]
  },
  {
   "cell_type": "code",
   "execution_count": 36,
   "id": "19ad382f",
   "metadata": {},
   "outputs": [
    {
     "name": "stdout",
     "output_type": "stream",
     "text": [
      "3\n"
     ]
    }
   ],
   "source": [
    "print(H.ndim)"
   ]
  },
  {
   "cell_type": "code",
   "execution_count": 37,
   "id": "c67182f7",
   "metadata": {},
   "outputs": [],
   "source": [
    "G=np.array([1,2,3,4,5],ndmin=5)"
   ]
  },
  {
   "cell_type": "code",
   "execution_count": 38,
   "id": "d2f8d0c4",
   "metadata": {},
   "outputs": [
    {
     "name": "stdout",
     "output_type": "stream",
     "text": [
      "[[[[[1 2 3 4 5]]]]]\n"
     ]
    }
   ],
   "source": [
    "print(G)"
   ]
  },
  {
   "cell_type": "code",
   "execution_count": 39,
   "id": "9208e27b",
   "metadata": {},
   "outputs": [
    {
     "name": "stdout",
     "output_type": "stream",
     "text": [
      "5\n"
     ]
    }
   ],
   "source": [
    "print(G.ndim)"
   ]
  },
  {
   "cell_type": "code",
   "execution_count": 40,
   "id": "56df1465",
   "metadata": {},
   "outputs": [
    {
     "name": "stdout",
     "output_type": "stream",
     "text": [
      "Higner dim:  5\n"
     ]
    }
   ],
   "source": [
    "print(\"Higner dim: \",G.ndim)"
   ]
  },
  {
   "cell_type": "code",
   "execution_count": 54,
   "id": "d350a0e3",
   "metadata": {},
   "outputs": [
    {
     "name": "stdout",
     "output_type": "stream",
     "text": [
      "3\n",
      "-4\n",
      "44\n"
     ]
    }
   ],
   "source": [
    "# Numpy indexing array\n",
    "\n",
    "# 1 dimension index array\n",
    "\n",
    "A= np.array([1,2,3])\n",
    "print(A[2])\n",
    "\n",
    "A=np.array([10,20,23,24])\n",
    "\n",
    "print(B[1]-B[3])\n",
    "print(B[1]+B[3])"
   ]
  },
  {
   "cell_type": "code",
   "execution_count": 60,
   "id": "3aa0ee47",
   "metadata": {},
   "outputs": [
    {
     "name": "stdout",
     "output_type": "stream",
     "text": [
      "[4 5 6]\n",
      "[1 2 3]\n",
      "3\n",
      "6\n"
     ]
    }
   ],
   "source": [
    "# 2 dimension array-[0]\n",
    "\n",
    "B=np.array([[1,2,3],[4,5,6]])\n",
    "print(B[1])\n",
    "print(B[0])\n",
    "print(B[0,2])\n",
    "print(B[1,2])"
   ]
  },
  {
   "cell_type": "code",
   "execution_count": 111,
   "id": "0837d57b",
   "metadata": {},
   "outputs": [
    {
     "name": "stdout",
     "output_type": "stream",
     "text": [
      "[[1 2 3]\n",
      " [4 5 6]\n",
      " [1 2 3]\n",
      " [4 5 6]]\n",
      "[4 5 6]\n",
      "[1 2 3]\n",
      "[4 5 6]\n",
      "[1 2 3]\n",
      "6\n",
      "4\n",
      "[[1 2 3]]\n",
      "[[[4 5 6]\n",
      "  [1 2 3]]]\n"
     ]
    }
   ],
   "source": [
    "# 3 dimension index array\n",
    "\n",
    "C=np.array([[[1,2,3],[4,5,6],[1,2,3],[4,5,6]]])\n",
    "print(C[0])\n",
    "\n",
    "print(C[0,1])\n",
    "print(C[0,2])\n",
    "print(C[0,3])\n",
    "print(C[0,0])\n",
    "print(C[0,3,2])\n",
    "print(C[0,-1,-3])\n",
    "print(C[0:2,2])\n",
    "print(C[0:2,1:3])\n"
   ]
  },
  {
   "cell_type": "code",
   "execution_count": 77,
   "id": "61f673fd",
   "metadata": {},
   "outputs": [
    {
     "name": "stdout",
     "output_type": "stream",
     "text": [
      "6\n"
     ]
    }
   ],
   "source": [
    "print(C[0,-1,-1])"
   ]
  },
  {
   "cell_type": "code",
   "execution_count": 108,
   "id": "d4e35d45",
   "metadata": {},
   "outputs": [
    {
     "name": "stdout",
     "output_type": "stream",
     "text": [
      "[3 4 5]\n",
      "[5 6 7 8 9]\n",
      "[1 2 3 4 5]\n",
      "[6 7 8]\n",
      "[3 4 5]\n",
      "[3 4 5 6]\n",
      "[2 3 4 5 6 7 8]\n",
      "[1 2 3 4 5 6 7 8]\n",
      "[6 7 8 9]\n"
     ]
    }
   ],
   "source": [
    "# numpy array slicing\n",
    "\n",
    "# syntax--[start:end],[start:end:step]\n",
    "\n",
    "Z=np.array([1,2,3,4,5,6,7,8,9])\n",
    "print(Z[2:5])\n",
    "print(Z[4:])\n",
    "print(Z[:5])\n",
    "\n",
    "\n",
    "# negative slicing\n",
    "\n",
    "print(Z[-4:-1])\n",
    "print(Z[-7:-4])\n",
    "print(Z[-7:-3])\n",
    "print(Z[-8:-1])\n",
    "print(Z[:-1])\n",
    "print(Z[-4:])"
   ]
  },
  {
   "cell_type": "raw",
   "id": "9a983949",
   "metadata": {},
   "source": [
    "# numpy datatypes\n",
    "\n",
    "i-integer\n",
    "b-boolean\n",
    "u-unsigned integer\n",
    "U-unicode string\n",
    "f-float\n",
    "c-complex float\n",
    "m-timedelta\n",
    "o-object\n",
    "M-datetime\n",
    "s-string\n",
    "V-null(void)\n",
    "\n"
   ]
  },
  {
   "cell_type": "code",
   "execution_count": 113,
   "id": "a651ea4b",
   "metadata": {},
   "outputs": [
    {
     "name": "stdout",
     "output_type": "stream",
     "text": [
      "int32\n"
     ]
    }
   ],
   "source": [
    "V=np.array([1,2,3,4,5,6,7,8])\n",
    "print(V.dtype)--#integer"
   ]
  },
  {
   "cell_type": "code",
   "execution_count": 116,
   "id": "cb40ae3c",
   "metadata": {},
   "outputs": [
    {
     "name": "stdout",
     "output_type": "stream",
     "text": [
      "object\n"
     ]
    }
   ],
   "source": [
    "V=np.array({1,2,3,4,5,6,7,8})\n",
    "print(V.dtype)--# object"
   ]
  },
  {
   "cell_type": "code",
   "execution_count": 117,
   "id": "427bd621",
   "metadata": {},
   "outputs": [
    {
     "name": "stdout",
     "output_type": "stream",
     "text": [
      "<U1\n"
     ]
    }
   ],
   "source": [
    "V=np.array([\"a\",\"b\",\"c\"])\n",
    "print(V.dtype)--#unicode string"
   ]
  },
  {
   "cell_type": "code",
   "execution_count": 125,
   "id": "0753ea3b",
   "metadata": {},
   "outputs": [
    {
     "name": "stdout",
     "output_type": "stream",
     "text": [
      "[b'1' b'2' b'3' b'4' b'5']\n"
     ]
    }
   ],
   "source": [
    "V=np.array([1,2,3,4,5],dtype='S')\n",
    "print(V)"
   ]
  },
  {
   "cell_type": "code",
   "execution_count": 150,
   "id": "71586036",
   "metadata": {},
   "outputs": [],
   "source": [
    "V=np.array([12,2,3,4,5])"
   ]
  },
  {
   "cell_type": "code",
   "execution_count": 153,
   "id": "59e296c0",
   "metadata": {},
   "outputs": [],
   "source": [
    "# how to change datatype \n",
    "\n",
    "new_v=V.astype(\"bool\")"
   ]
  },
  {
   "cell_type": "code",
   "execution_count": 154,
   "id": "c3f2d60b",
   "metadata": {},
   "outputs": [
    {
     "data": {
      "text/plain": [
       "array([ True,  True,  True,  True,  True])"
      ]
     },
     "execution_count": 154,
     "metadata": {},
     "output_type": "execute_result"
    }
   ],
   "source": [
    "new_v"
   ]
  },
  {
   "cell_type": "code",
   "execution_count": 158,
   "id": "faa58d50",
   "metadata": {},
   "outputs": [
    {
     "name": "stdout",
     "output_type": "stream",
     "text": [
      "[1 2 3 4 5 7]\n",
      "[1 2 3 4 6 7]\n",
      "[1 0 3 4 6 7]\n",
      "[1 0 3 4 6 7]\n"
     ]
    }
   ],
   "source": [
    "# numpy copy and view\n",
    "\n",
    "\n",
    "O=np.array([1,2,3,4,6,7])\n",
    "P=O.copy()\n",
    "O[4]=5\n",
    "print(O)\n",
    "print(P)\n",
    "\n",
    "\n",
    "# view\n",
    "O=np.array([1,2,3,4,6,7])\n",
    "P=O.view()\n",
    "O[1]=0\n",
    "print(O)\n",
    "print(P)"
   ]
  },
  {
   "cell_type": "code",
   "execution_count": 163,
   "id": "ad06d6aa",
   "metadata": {},
   "outputs": [
    {
     "name": "stdout",
     "output_type": "stream",
     "text": [
      "(2, 5)\n"
     ]
    }
   ],
   "source": [
    "# Numpy array shape and reshape\n",
    "\n",
    "r=np.array([[1,2,3,4,5],[6,7,8,9,10]])\n",
    "print(r.shape)"
   ]
  },
  {
   "cell_type": "code",
   "execution_count": 166,
   "id": "54af6629",
   "metadata": {},
   "outputs": [
    {
     "name": "stdout",
     "output_type": "stream",
     "text": [
      "(1, 1, 1, 1, 5)\n"
     ]
    }
   ],
   "source": [
    "rp=np.array([1,2,3,4,6],ndmin=5)\n",
    "print(rp.shape)"
   ]
  },
  {
   "cell_type": "code",
   "execution_count": 186,
   "id": "3bfb400b",
   "metadata": {},
   "outputs": [
    {
     "name": "stdout",
     "output_type": "stream",
     "text": [
      "[[ 1  2]\n",
      " [ 3  4]\n",
      " [ 5  6]\n",
      " [ 7  8]\n",
      " [ 9 10]]\n"
     ]
    }
   ],
   "source": [
    "# reshape\n",
    "rx=np.array([1,2,3,4,5,6,7,8,9,10])\n",
    "print(rx.reshape(5,2))"
   ]
  },
  {
   "cell_type": "code",
   "execution_count": 203,
   "id": "fc1284f5",
   "metadata": {},
   "outputs": [
    {
     "name": "stdout",
     "output_type": "stream",
     "text": [
      "[[[ 1  2]\n",
      "  [ 3  4]\n",
      "  [ 5  6]]\n",
      "\n",
      " [[ 7  8]\n",
      "  [ 9 10]\n",
      "  [11 12]]]\n"
     ]
    }
   ],
   "source": [
    "rx=np.array([1,2,3,4,5,6,7,8,9,10,11,12])\n",
    "print(rx.reshape(2,3,2))"
   ]
  },
  {
   "cell_type": "code",
   "execution_count": 204,
   "id": "443fe9d9",
   "metadata": {},
   "outputs": [
    {
     "name": "stdout",
     "output_type": "stream",
     "text": [
      "[[[ 1  2]\n",
      "  [ 3  4]\n",
      "  [ 5  6]]\n",
      "\n",
      " [[ 7  8]\n",
      "  [ 9 10]\n",
      "  [11 12]]]\n"
     ]
    }
   ],
   "source": [
    "# unknown dimension\n",
    "rx=np.array([1,2,3,4,5,6,7,8,9,10,11,12])\n",
    "print(rx.reshape(2,3,-1))\n"
   ]
  },
  {
   "cell_type": "code",
   "execution_count": 206,
   "id": "e4d7d885",
   "metadata": {},
   "outputs": [
    {
     "data": {
      "text/plain": [
       "array([ 1,  2,  3,  4,  5,  6,  7,  8,  9, 10, 11, 12, 13, 14, 15, 16])"
      ]
     },
     "execution_count": 206,
     "metadata": {},
     "output_type": "execute_result"
    }
   ],
   "source": [
    "#how to change dimension\n",
    "rvb=np.array([[[[1,2,3,4],[5,6,7,8],[9,10,11,12],[13,14,15,16]]]])\n",
    "rvb.reshape(-1)"
   ]
  },
  {
   "cell_type": "code",
   "execution_count": 212,
   "id": "461cb8a0",
   "metadata": {},
   "outputs": [
    {
     "name": "stdout",
     "output_type": "stream",
     "text": [
      "[1 2 3]\n"
     ]
    }
   ],
   "source": [
    "# numpy iterating\n",
    "\n",
    "arr=np.array([[1,2,3]])\n",
    "for x in arr:\n",
    "    print(x)"
   ]
  },
  {
   "cell_type": "code",
   "execution_count": 213,
   "id": "97b5b9be",
   "metadata": {},
   "outputs": [
    {
     "name": "stdout",
     "output_type": "stream",
     "text": [
      "[1 2 3]\n",
      "[4 5 6]\n"
     ]
    }
   ],
   "source": [
    "arr=np.array([[1,2,3],[4,5,6]])\n",
    "for x in arr:\n",
    "    print(x)"
   ]
  },
  {
   "cell_type": "code",
   "execution_count": 216,
   "id": "b88f6e7a",
   "metadata": {},
   "outputs": [
    {
     "name": "stdout",
     "output_type": "stream",
     "text": [
      "1\n",
      "2\n",
      "3\n",
      "4\n",
      "5\n",
      "6\n"
     ]
    }
   ],
   "source": [
    "arr=np.array([[1,2,3],[4,5,6]])\n",
    "for x in arr:\n",
    "    for y in x:\n",
    "        print(y)"
   ]
  },
  {
   "cell_type": "code",
   "execution_count": 222,
   "id": "69f53b01",
   "metadata": {},
   "outputs": [
    {
     "name": "stdout",
     "output_type": "stream",
     "text": [
      "1\n",
      "2\n",
      "3\n",
      "4\n",
      "5\n",
      "6\n",
      "7\n",
      "8\n",
      "9\n",
      "10\n",
      "11\n",
      "12\n"
     ]
    }
   ],
   "source": [
    "arr=np.array([[[1,2,3],[4,5,6],[7,8,9],[10,11,12]]])\n",
    "for x in arr:\n",
    "    for y in x:\n",
    "        for z in y:\n",
    "            print(z)"
   ]
  },
  {
   "cell_type": "code",
   "execution_count": 225,
   "id": "7de893fd",
   "metadata": {},
   "outputs": [
    {
     "name": "stdout",
     "output_type": "stream",
     "text": [
      "1\n",
      "2\n",
      "3\n",
      "4\n",
      "5\n",
      "6\n",
      "7\n",
      "8\n",
      "9\n",
      "10\n",
      "11\n",
      "12\n"
     ]
    }
   ],
   "source": [
    "# numpy iterating-nditer\n",
    "\n",
    "arr=np.array([[[1,2,3],[4,5,6],[7,8,9],[10,11,12]]])\n",
    "\n",
    "for x in np.nditer(arr):\n",
    "    print(x)"
   ]
  },
  {
   "cell_type": "code",
   "execution_count": 226,
   "id": "81bf05f2",
   "metadata": {},
   "outputs": [
    {
     "name": "stdout",
     "output_type": "stream",
     "text": [
      "1\n",
      "2\n",
      "3\n",
      "7\n",
      "8\n",
      "9\n"
     ]
    }
   ],
   "source": [
    "arr=np.array([[[1,2,3],[4,5,6],[7,8,9],[10,11,12]]])\n",
    "\n",
    "for x in np.nditer(arr[:,: :2]):\n",
    "    print(x)\n"
   ]
  },
  {
   "cell_type": "code",
   "execution_count": 227,
   "id": "992f2ad4",
   "metadata": {},
   "outputs": [
    {
     "name": "stdout",
     "output_type": "stream",
     "text": [
      "((0, 0, 0), 1)\n",
      "((0, 0, 1), 2)\n",
      "((0, 0, 2), 3)\n",
      "((0, 1, 0), 4)\n",
      "((0, 1, 1), 5)\n",
      "((0, 1, 2), 6)\n",
      "((0, 2, 0), 7)\n",
      "((0, 2, 1), 8)\n",
      "((0, 2, 2), 9)\n",
      "((0, 3, 0), 10)\n",
      "((0, 3, 1), 11)\n",
      "((0, 3, 2), 12)\n"
     ]
    }
   ],
   "source": [
    "#ndenumerate\n",
    "\n",
    "arr=np.array([[[1,2,3],[4,5,6],[7,8,9],[10,11,12]]])\n",
    "\n",
    "for x in np.ndenumerate(arr):\n",
    "    print(x)\n",
    "\n"
   ]
  },
  {
   "cell_type": "code",
   "execution_count": 228,
   "id": "7d321b28",
   "metadata": {},
   "outputs": [
    {
     "name": "stdout",
     "output_type": "stream",
     "text": [
      "(0, 0, 0) 1\n",
      "(0, 0, 1) 2\n",
      "(0, 0, 2) 3\n",
      "(0, 1, 0) 4\n",
      "(0, 1, 1) 5\n",
      "(0, 1, 2) 6\n",
      "(0, 2, 0) 7\n",
      "(0, 2, 1) 8\n",
      "(0, 2, 2) 9\n",
      "(0, 3, 0) 10\n",
      "(0, 3, 1) 11\n",
      "(0, 3, 2) 12\n"
     ]
    }
   ],
   "source": [
    "arr=np.array([[[1,2,3],[4,5,6],[7,8,9],[10,11,12]]])\n",
    "\n",
    "for idx,x in np.ndenumerate(arr):\n",
    "    print(idx,x)"
   ]
  },
  {
   "cell_type": "code",
   "execution_count": 230,
   "id": "05e91e37",
   "metadata": {},
   "outputs": [
    {
     "name": "stdout",
     "output_type": "stream",
     "text": [
      "[1 2 3 4 5 6]\n"
     ]
    }
   ],
   "source": [
    "#numpy array join and split\n",
    "# concatenate()\n",
    "\n",
    "arr1=np.array([1,2,3])\n",
    "arr2=np.array([4,5,6])\n",
    "\n",
    "arracon=np.concatenate((arr1,arr2))\n",
    "print(arracon)"
   ]
  },
  {
   "cell_type": "code",
   "execution_count": 233,
   "id": "584c6097",
   "metadata": {},
   "outputs": [
    {
     "name": "stdout",
     "output_type": "stream",
     "text": [
      "[[1 2 5 6]\n",
      " [3 4 7 8]]\n"
     ]
    }
   ],
   "source": [
    "arr1=np.array([[1,2],[3,4]])\n",
    "arr2=np.array([[5,6],[7,8]])\n",
    "\n",
    "arracon=np.hstack((arr1,arr2))--#rows\n",
    "print(arracon)"
   ]
  },
  {
   "cell_type": "code",
   "execution_count": 236,
   "id": "6328ada9",
   "metadata": {},
   "outputs": [
    {
     "name": "stdout",
     "output_type": "stream",
     "text": [
      "[[1 2]\n",
      " [3 4]\n",
      " [5 6]\n",
      " [7 8]]\n"
     ]
    }
   ],
   "source": [
    "arr1=np.array([[1,2],[3,4]])\n",
    "arr2=np.array([[5,6],[7,8]])\n",
    "\n",
    "arracon=np.vstack((arr1,arr2))--#columns\n",
    "print(arracon)"
   ]
  },
  {
   "cell_type": "code",
   "execution_count": 239,
   "id": "be23fca1",
   "metadata": {},
   "outputs": [
    {
     "name": "stdout",
     "output_type": "stream",
     "text": [
      "[[[1 5]\n",
      "  [2 6]]\n",
      "\n",
      " [[3 7]\n",
      "  [4 8]]]\n"
     ]
    }
   ],
   "source": [
    "arr1=np.array([[1,2],[3,4]])\n",
    "arr2=np.array([[5,6],[7,8]])\n",
    "\n",
    "arracon=np.dstack((arr1,arr2))\n",
    "print(arracon)"
   ]
  },
  {
   "cell_type": "code",
   "execution_count": 247,
   "id": "5f7926ff",
   "metadata": {},
   "outputs": [
    {
     "name": "stdout",
     "output_type": "stream",
     "text": [
      "[array([1, 2, 3]), array([4, 5])]\n"
     ]
    }
   ],
   "source": [
    "## split\n",
    "\n",
    "arra=np.array([1,2,3,4,5])\n",
    "new_array=np.array_split(arra,2)\n",
    "print(new_array)"
   ]
  },
  {
   "cell_type": "code",
   "execution_count": 249,
   "id": "a77f6255",
   "metadata": {},
   "outputs": [
    {
     "name": "stdout",
     "output_type": "stream",
     "text": [
      "[4 5]\n"
     ]
    }
   ],
   "source": [
    "arra=np.array([1,2,3,4,5])\n",
    "new_array=np.array_split(arra,2)\n",
    "print(new_array[1])"
   ]
  },
  {
   "cell_type": "code",
   "execution_count": 266,
   "id": "2e85eb10",
   "metadata": {},
   "outputs": [
    {
     "name": "stdout",
     "output_type": "stream",
     "text": [
      "[array([[1, 2, 3]]), array([[4, 5, 6]])]\n"
     ]
    }
   ],
   "source": [
    "arra=np.array([[1,2,3],[4,5,6]])\n",
    "new_array=np.array_split(arra,2)\n",
    "print(new_array)"
   ]
  },
  {
   "cell_type": "code",
   "execution_count": 269,
   "id": "9e17fafc",
   "metadata": {},
   "outputs": [
    {
     "name": "stdout",
     "output_type": "stream",
     "text": [
      "(array([4, 5], dtype=int64),)\n"
     ]
    }
   ],
   "source": [
    "# numpy searching arrays\n",
    "\n",
    "# where()\n",
    "\n",
    "xc=np.array([1,2,3,4,5,5,67])\n",
    "yp=np.where(xc==5)\n",
    "print(yp)\n"
   ]
  },
  {
   "cell_type": "code",
   "execution_count": 270,
   "id": "69c42279",
   "metadata": {},
   "outputs": [
    {
     "name": "stdout",
     "output_type": "stream",
     "text": [
      "(array([0, 2, 4, 5, 6], dtype=int64),)\n"
     ]
    }
   ],
   "source": [
    "# how to find even numbers using numpy\n",
    "xc=np.array([1,2,3,4,5,5,67])\n",
    "yp=np.where(xc%2==1)\n",
    "print(yp)\n"
   ]
  },
  {
   "cell_type": "code",
   "execution_count": 271,
   "id": "d2d19dbb",
   "metadata": {},
   "outputs": [
    {
     "name": "stdout",
     "output_type": "stream",
     "text": [
      "(array([1, 3], dtype=int64),)\n"
     ]
    }
   ],
   "source": [
    "# how to find odd numbers using numpy\n",
    "xc=np.array([1,2,3,4,5,5,67])\n",
    "yp=np.where(xc%2==0)\n",
    "print(yp)"
   ]
  },
  {
   "cell_type": "code",
   "execution_count": 274,
   "id": "ccfbe9ab",
   "metadata": {},
   "outputs": [
    {
     "name": "stdout",
     "output_type": "stream",
     "text": [
      "1\n"
     ]
    }
   ],
   "source": [
    "# searching exact numbers\n",
    "\n",
    "xc=np.array([1,2,3,4,5,5,67])\n",
    "yp=np.searchsorted(xc,2)\n",
    "print(yp)"
   ]
  },
  {
   "cell_type": "code",
   "execution_count": 276,
   "id": "ba7438bf",
   "metadata": {},
   "outputs": [
    {
     "name": "stdout",
     "output_type": "stream",
     "text": [
      "2\n"
     ]
    }
   ],
   "source": [
    "xc=np.array([1,2,3,4,5,5,67])\n",
    "yp=np.searchsorted(xc,2,side='right')\n",
    "print(yp)"
   ]
  },
  {
   "cell_type": "code",
   "execution_count": 278,
   "id": "acc3414d",
   "metadata": {},
   "outputs": [
    {
     "name": "stdout",
     "output_type": "stream",
     "text": [
      "[1 3 7]\n"
     ]
    }
   ],
   "source": [
    "xc=np.array([1,2,3,4,5,5,6,7])\n",
    "yp=np.searchsorted(xc,[2,4,7])\n",
    "print(yp)"
   ]
  },
  {
   "cell_type": "code",
   "execution_count": 279,
   "id": "7604a3ee",
   "metadata": {},
   "outputs": [
    {
     "name": "stdout",
     "output_type": "stream",
     "text": [
      "[0 1 2 3]\n"
     ]
    }
   ],
   "source": [
    "# sorting array\n",
    "\n",
    "bc=np.array([3,2,1,0])\n",
    "print(np.sort(bc))"
   ]
  },
  {
   "cell_type": "code",
   "execution_count": 281,
   "id": "6da105ba",
   "metadata": {},
   "outputs": [
    {
     "name": "stdout",
     "output_type": "stream",
     "text": [
      "['True' 'True' 'false']\n"
     ]
    }
   ],
   "source": [
    "bc=np.array([True,'false',True])\n",
    "print(np.sort(bc))"
   ]
  },
  {
   "cell_type": "code",
   "execution_count": 282,
   "id": "ed0cf7d6",
   "metadata": {},
   "outputs": [
    {
     "name": "stdout",
     "output_type": "stream",
     "text": [
      "[[0 1 2 3]\n",
      " [4 5 6 7]]\n"
     ]
    }
   ],
   "source": [
    "bc=np.array([[3,2,1,0],[4,6,5,7]])\n",
    "print(np.sort(bc))"
   ]
  },
  {
   "cell_type": "code",
   "execution_count": 290,
   "id": "84ef0c78",
   "metadata": {},
   "outputs": [
    {
     "name": "stdout",
     "output_type": "stream",
     "text": [
      "[50 40]\n"
     ]
    }
   ],
   "source": [
    "# filter array\n",
    "\n",
    "x=np.array([50,30,40,20])\n",
    "y=[True,False,True,False]\n",
    "new_xy = x[y]\n",
    "print(new_xy)"
   ]
  },
  {
   "cell_type": "code",
   "execution_count": 310,
   "id": "a15687c9",
   "metadata": {},
   "outputs": [
    {
     "name": "stdout",
     "output_type": "stream",
     "text": [
      "[50]\n",
      "[ True False False False]\n"
     ]
    }
   ],
   "source": [
    "arr=np.array([50,30,40,20])\n",
    "filter_arr=arr>42\n",
    "new_arr=arr[filter_arr]\n",
    "print(new_arr)\n",
    "print(filter_arr)\n",
    "\n",
    "\n",
    "\n"
   ]
  },
  {
   "cell_type": "code",
   "execution_count": 317,
   "id": "ac1b7ae9",
   "metadata": {},
   "outputs": [
    {
     "name": "stdout",
     "output_type": "stream",
     "text": [
      "68\n"
     ]
    }
   ],
   "source": [
    "# numpy random numbers\n",
    "\n",
    "from numpy import random\n",
    "\n",
    "x=random.randint(100)\n",
    "print(x)\n"
   ]
  },
  {
   "cell_type": "code",
   "execution_count": 318,
   "id": "b2cef874",
   "metadata": {},
   "outputs": [
    {
     "name": "stdout",
     "output_type": "stream",
     "text": [
      "[66 19 44]\n"
     ]
    }
   ],
   "source": [
    "x=random.randint(100,size=(3))\n",
    "print(x)\n"
   ]
  },
  {
   "cell_type": "code",
   "execution_count": 320,
   "id": "76659be8",
   "metadata": {},
   "outputs": [
    {
     "name": "stdout",
     "output_type": "stream",
     "text": [
      "[[88 96 93]\n",
      " [86 38 51]\n",
      " [85  3 47]]\n"
     ]
    }
   ],
   "source": [
    "x=random.randint(100,size=(3,3))\n",
    "print(x)\n"
   ]
  },
  {
   "cell_type": "code",
   "execution_count": 322,
   "id": "00d59346",
   "metadata": {},
   "outputs": [
    {
     "name": "stdout",
     "output_type": "stream",
     "text": [
      "[0.02382761 0.89637507 0.50770446]\n"
     ]
    }
   ],
   "source": [
    "x=random.rand(3)\n",
    "print(x)\n"
   ]
  },
  {
   "cell_type": "code",
   "execution_count": 326,
   "id": "8c77150a",
   "metadata": {},
   "outputs": [
    {
     "name": "stdout",
     "output_type": "stream",
     "text": [
      "120\n"
     ]
    }
   ],
   "source": [
    "# choice\n",
    "\n",
    "x=random.choice([100,105,110,115,120])\n",
    "print(x)\n"
   ]
  },
  {
   "cell_type": "code",
   "execution_count": 330,
   "id": "07a934da",
   "metadata": {},
   "outputs": [
    {
     "name": "stdout",
     "output_type": "stream",
     "text": [
      "[[3 6]\n",
      " [6 4]\n",
      " [6 1]]\n"
     ]
    }
   ],
   "source": [
    "x=random.choice([1,2,3,4,6],size=(3,2))\n",
    "print(x)"
   ]
  },
  {
   "cell_type": "code",
   "execution_count": 346,
   "id": "08656402",
   "metadata": {},
   "outputs": [
    {
     "name": "stdout",
     "output_type": "stream",
     "text": [
      "[3 3 3 3 3 3 1 1 2 3]\n"
     ]
    }
   ],
   "source": [
    "# data distribution\n",
    "x=random.choice([1,2,3],p=[0.1,0.3,0.6],size=(10))\n",
    "print(x)"
   ]
  },
  {
   "cell_type": "code",
   "execution_count": 356,
   "id": "f9f504d1",
   "metadata": {},
   "outputs": [
    {
     "name": "stdout",
     "output_type": "stream",
     "text": [
      "[4 1 2 3 5]\n"
     ]
    }
   ],
   "source": [
    "# numpy permutation\n",
    "# shuffle\n",
    "mm=np.array([1,4,5,2,3])\n",
    "random.shuffle(mm)\n",
    "print(mm)"
   ]
  },
  {
   "cell_type": "code",
   "execution_count": 367,
   "id": "3e3e804a",
   "metadata": {},
   "outputs": [
    {
     "name": "stdout",
     "output_type": "stream",
     "text": [
      "[2 3 5 1 4]\n"
     ]
    }
   ],
   "source": [
    "mm=np.array([1,4,5,2,3])\n",
    "y=random.permutation(mm)\n",
    "print(y)"
   ]
  },
  {
   "cell_type": "code",
   "execution_count": 369,
   "id": "6950559c",
   "metadata": {},
   "outputs": [],
   "source": [
    "# seaborn \n",
    "\n",
    "import seaborn as sns \n",
    "\n",
    "import matplotlib.pyplot as plt\n"
   ]
  },
  {
   "cell_type": "code",
   "execution_count": 371,
   "id": "63e78f9a",
   "metadata": {},
   "outputs": [
    {
     "name": "stderr",
     "output_type": "stream",
     "text": [
      "C:\\Users\\divi\\anaconda3\\lib\\site-packages\\seaborn\\distributions.py:2619: FutureWarning: `distplot` is a deprecated function and will be removed in a future version. Please adapt your code to use either `displot` (a figure-level function with similar flexibility) or `kdeplot` (an axes-level function for kernel density plots).\n",
      "  warnings.warn(msg, FutureWarning)\n"
     ]
    },
    {
     "data": {
      "image/png": "[encoded data removed]",
      "text/plain": [
       "<Figure size 640x480 with 1 Axes>"
      ]
     },
     "metadata": {},
     "output_type": "display_data"
    }
   ],
   "source": [
    "sns.distplot([0,1,2,3,4,5,6],hist=False)\n",
    "plt.show()"
   ]
  },
  {
   "cell_type": "code",
   "execution_count": 372,
   "id": "19ff033e",
   "metadata": {},
   "outputs": [
    {
     "name": "stderr",
     "output_type": "stream",
     "text": [
      "C:\\Users\\divi\\anaconda3\\lib\\site-packages\\seaborn\\distributions.py:2619: FutureWarning: `distplot` is a deprecated function and will be removed in a future version. Please adapt your code to use either `displot` (a figure-level function with similar flexibility) or `histplot` (an axes-level function for histograms).\n",
      "  warnings.warn(msg, FutureWarning)\n"
     ]
    },
    {
     "data": {
      "image/png": "[encoded data removed]",
      "text/plain": [
       "<Figure size 640x480 with 1 Axes>"
      ]
     },
     "metadata": {},
     "output_type": "display_data"
    }
   ],
   "source": [
    "sns.distplot([0,1,2,3,4,5,6],hist=True)\n",
    "plt.show()"
   ]
  },
  {
   "cell_type": "code",
   "execution_count": 375,
   "id": "f4fd19c3",
   "metadata": {},
   "outputs": [
    {
     "name": "stdout",
     "output_type": "stream",
     "text": [
      "[ 0.52181155  5.36140926  6.83707804 -3.48455692  6.61808621]\n"
     ]
    }
   ],
   "source": [
    "## normal distribution\n",
    "# numpy  mathematics\n",
    "\n",
    "# normal distribution(gaussian)\n",
    "# loc-mean (25/5=5)\n",
    "# scale=standard deviation\n",
    "# size-size of array\n",
    "\n",
    "\n",
    "xp=random.normal(loc=2,scale=4,size=5)\n",
    "print(xp)\n",
    "\n"
   ]
  },
  {
   "cell_type": "code",
   "execution_count": 379,
   "id": "b37cda2b",
   "metadata": {},
   "outputs": [
    {
     "name": "stdout",
     "output_type": "stream",
     "text": [
      "[1 1 0 0 1]\n"
     ]
    }
   ],
   "source": [
    "# binomial distribution\n",
    "#n-number of trials\n",
    "#p=prabability\n",
    "#size=size of array\n",
    "\n",
    "xs=random.binomial(n=1,p=0.5,size=5)\n",
    "print(xs)"
   ]
  },
  {
   "cell_type": "code",
   "execution_count": 381,
   "id": "d97fc719",
   "metadata": {},
   "outputs": [
    {
     "name": "stderr",
     "output_type": "stream",
     "text": [
      "C:\\Users\\divi\\anaconda3\\lib\\site-packages\\seaborn\\distributions.py:2619: FutureWarning: `distplot` is a deprecated function and will be removed in a future version. Please adapt your code to use either `displot` (a figure-level function with similar flexibility) or `histplot` (an axes-level function for histograms).\n",
      "  warnings.warn(msg, FutureWarning)\n"
     ]
    },
    {
     "data": {
      "image/png": "[encoded data removed]",
      "text/plain": [
       "<Figure size 640x480 with 1 Axes>"
      ]
     },
     "metadata": {},
     "output_type": "display_data"
    }
   ],
   "source": [
    "sns.distplot(random.binomial(n=1,p=0.5,size=5),hist=True)\n",
    "plt.show()"
   ]
  },
  {
   "cell_type": "code",
   "execution_count": 389,
   "id": "160cdece",
   "metadata": {},
   "outputs": [
    {
     "name": "stdout",
     "output_type": "stream",
     "text": [
      "[[0 1 0 3 2]\n",
      " [1 0 1 1 3]\n",
      " [1 2 2 0 1]\n",
      " [0 1 2 2 1]\n",
      " [0 4 0 0 2]\n",
      " [2 1 0 1 2]]\n"
     ]
    }
   ],
   "source": [
    "# multinomial distribution\n",
    "#n=number of possible outcomes\n",
    "#pvals=probablity values\n",
    "#size=size of array\n",
    "\n",
    "x=random.multinomial(n=6,pvals=[1/6,1/6,1/6,1/6,1/6],size=6)\n",
    "print(x)\n",
    "\n"
   ]
  },
  {
   "cell_type": "code",
   "execution_count": 404,
   "id": "6b7b7960",
   "metadata": {},
   "outputs": [
    {
     "name": "stdout",
     "output_type": "stream",
     "text": [
      "[6.78684407 0.05441207 2.865609  ]\n"
     ]
    }
   ],
   "source": [
    "# exponential distribution\n",
    "# scale-inverse rate=1.0\n",
    "#size-size of array\n",
    "\n",
    "x=random.exponential(scale=4,size=(3))\n",
    "print(x)"
   ]
  },
  {
   "cell_type": "code",
   "execution_count": 406,
   "id": "43169777",
   "metadata": {},
   "outputs": [
    {
     "name": "stderr",
     "output_type": "stream",
     "text": [
      "C:\\Users\\divi\\anaconda3\\lib\\site-packages\\seaborn\\distributions.py:2619: FutureWarning: `distplot` is a deprecated function and will be removed in a future version. Please adapt your code to use either `displot` (a figure-level function with similar flexibility) or `histplot` (an axes-level function for histograms).\n",
      "  warnings.warn(msg, FutureWarning)\n"
     ]
    },
    {
     "data": {
      "image/png": "[encoded data removed]",
      "text/plain": [
       "<Figure size 640x480 with 1 Axes>"
      ]
     },
     "metadata": {},
     "output_type": "display_data"
    }
   ],
   "source": [
    "sns.distplot(random.exponential(scale=4,size=(3)),hist=True)\n",
    "plt.show()"
   ]
  },
  {
   "cell_type": "code",
   "execution_count": 411,
   "id": "67bb5298",
   "metadata": {},
   "outputs": [
    {
     "name": "stdout",
     "output_type": "stream",
     "text": [
      "[[0.8778562  0.26585268]\n",
      " [0.73195791 0.0526803 ]\n",
      " [0.35376806 0.12189805]\n",
      " [0.58059793 0.85890407]]\n"
     ]
    }
   ],
   "source": [
    "# uniform distribution\n",
    "# a-lower bound-0.0\n",
    "#b-upper bound-1.0\n",
    "# size=size of array\n",
    "\n",
    "x=random.uniform(size=(4,2))\n",
    "print(x)"
   ]
  },
  {
   "cell_type": "code",
   "execution_count": 415,
   "id": "412df98c",
   "metadata": {},
   "outputs": [
    {
     "name": "stdout",
     "output_type": "stream",
     "text": [
      "[-1.08915927  0.81992723]\n"
     ]
    }
   ],
   "source": [
    "# Logistic distribution\n",
    "#loc-mean\n",
    "#scale-standard deviation\n",
    "#size=size of array\n",
    "\n",
    "z=random.logistic(loc=1,scale=2,size=2)\n",
    "print(z)"
   ]
  },
  {
   "cell_type": "code",
   "execution_count": 422,
   "id": "2029bdf8",
   "metadata": {},
   "outputs": [
    {
     "name": "stdout",
     "output_type": "stream",
     "text": [
      "[3 4 4 4 0 3]\n"
     ]
    }
   ],
   "source": [
    "# poisson distribution\n",
    "#lam-rate of occurance\n",
    "#size=size of array\n",
    "\n",
    "f=random.poisson(lam=4,size=(6))\n",
    "print(f)"
   ]
  },
  {
   "cell_type": "code",
   "execution_count": 423,
   "id": "75a33c70",
   "metadata": {},
   "outputs": [
    {
     "name": "stderr",
     "output_type": "stream",
     "text": [
      "C:\\Users\\divi\\anaconda3\\lib\\site-packages\\seaborn\\distributions.py:2619: FutureWarning: `distplot` is a deprecated function and will be removed in a future version. Please adapt your code to use either `displot` (a figure-level function with similar flexibility) or `histplot` (an axes-level function for histograms).\n",
      "  warnings.warn(msg, FutureWarning)\n"
     ]
    },
    {
     "data": {
      "image/png": "[encoded data removed]",
      "text/plain": [
       "<Figure size 640x480 with 1 Axes>"
      ]
     },
     "metadata": {},
     "output_type": "display_data"
    }
   ],
   "source": [
    "sns.distplot(random.poisson(lam=4,size=(6)),hist=True)\n",
    "plt.show()"
   ]
  },
  {
   "cell_type": "code",
   "execution_count": 425,
   "id": "992041d4",
   "metadata": {},
   "outputs": [
    {
     "name": "stdout",
     "output_type": "stream",
     "text": [
      "[6, 8, 10, 12, 14]\n"
     ]
    }
   ],
   "source": [
    "# numpy (ufuncs)-universal function\n",
    "\n",
    "\n",
    "\n",
    "x=[1,2,3,4,5]\n",
    "y=[5,6,7,8,9]\n",
    "z=[]\n",
    "\n",
    "for i,j in zip(x,y):\n",
    "    z.append(i+j)\n",
    "print(z)\n"
   ]
  },
  {
   "cell_type": "code",
   "execution_count": 428,
   "id": "902abe06",
   "metadata": {},
   "outputs": [
    {
     "name": "stdout",
     "output_type": "stream",
     "text": [
      "[ 6  8 10 12 14]\n"
     ]
    }
   ],
   "source": [
    "# vectorization-cpu faster\n",
    "x=[1,2,3,4,5]\n",
    "y=[5,6,7,8,9]\n",
    "z=np.add(x,y)\n",
    "print(z)"
   ]
  },
  {
   "cell_type": "code",
   "execution_count": 451,
   "id": "b9293fcb",
   "metadata": {},
   "outputs": [
    {
     "name": "stdout",
     "output_type": "stream",
     "text": [
      "[7 9 11 13 15]\n"
     ]
    }
   ],
   "source": [
    "# numpy creating function\n",
    "\n",
    "def myfunc(x,y):\n",
    "    return x+y\n",
    "myfunc=np.frompyfunc(myfunc,2,1)\n",
    "print(myfunc([1,2,3,4,5],[6,7,8,9,10]))\n"
   ]
  },
  {
   "cell_type": "code",
   "execution_count": 452,
   "id": "24664827",
   "metadata": {},
   "outputs": [
    {
     "name": "stdout",
     "output_type": "stream",
     "text": [
      "[-5 -5 -5 -5 -5]\n"
     ]
    }
   ],
   "source": [
    "def myfunc(x,y):\n",
    "    return x-y\n",
    "myfunc=np.frompyfunc(myfunc,2,1)\n",
    "print(myfunc([1,2,3,4,5],[6,7,8,9,10]))"
   ]
  },
  {
   "cell_type": "code",
   "execution_count": 453,
   "id": "caaeede9",
   "metadata": {},
   "outputs": [
    {
     "name": "stdout",
     "output_type": "stream",
     "text": [
      "[6 14 24 36 50]\n"
     ]
    }
   ],
   "source": [
    "def myfunc(x,y):\n",
    "    return x*y\n",
    "myfunc=np.frompyfunc(myfunc,2,1)\n",
    "print(myfunc([1,2,3,4,5],[6,7,8,9,10]))"
   ]
  },
  {
   "cell_type": "code",
   "execution_count": 455,
   "id": "b2f97153",
   "metadata": {},
   "outputs": [
    {
     "name": "stdout",
     "output_type": "stream",
     "text": [
      "[0.16666666666666666 0.2857142857142857 0.375 0.4444444444444444 0.5]\n"
     ]
    }
   ],
   "source": [
    "def myfunc(x,y):\n",
    "    return x/y\n",
    "myfunc=np.frompyfunc(myfunc,2,1)\n",
    "print(myfunc([1,2,3,4,5],[6,7,8,9,10]))"
   ]
  },
  {
   "cell_type": "code",
   "execution_count": 458,
   "id": "702e4ab4",
   "metadata": {},
   "outputs": [
    {
     "name": "stdout",
     "output_type": "stream",
     "text": [
      "[5 7 9]\n"
     ]
    }
   ],
   "source": [
    "## unfunctions simple arithmetic\n",
    "\n",
    "x=np.array([1,2,3])\n",
    "y=np.array([4,5,6])\n",
    "z=np.add(x,y)\n",
    "print(z)"
   ]
  },
  {
   "cell_type": "code",
   "execution_count": 463,
   "id": "f057e08a",
   "metadata": {},
   "outputs": [
    {
     "name": "stdout",
     "output_type": "stream",
     "text": [
      "[  1  32 729]\n"
     ]
    }
   ],
   "source": [
    "x=np.array([1,2,3])\n",
    "y=np.array([4,5,6])\n",
    "z=np.power(x,y)\n",
    "print(z)"
   ]
  },
  {
   "cell_type": "code",
   "execution_count": 466,
   "id": "a01f02a7",
   "metadata": {},
   "outputs": [
    {
     "name": "stdout",
     "output_type": "stream",
     "text": [
      "(array([0, 0, 0]), array([1, 2, 3]))\n"
     ]
    }
   ],
   "source": [
    "x=np.array([1,2,3])\n",
    "y=np.array([4,5,6])\n",
    "z=np.divmod(x,y)\n",
    "print(z)"
   ]
  },
  {
   "cell_type": "code",
   "execution_count": 471,
   "id": "ca6cce7a",
   "metadata": {},
   "outputs": [
    {
     "name": "stdout",
     "output_type": "stream",
     "text": [
      "[-2.  3.  5.]\n",
      "<class 'numpy.ndarray'>\n",
      "[-2.  3.  5.]\n",
      "<class 'numpy.ndarray'>\n"
     ]
    }
   ],
   "source": [
    "# unfuncs rounding decimals\n",
    "\n",
    "#truncation-trunc() and fix()\n",
    "z=np.trunc([-2.56,3.4,5.66])\n",
    "print(z)\n",
    "print(type(z))\n",
    "\n",
    "\n",
    "\n",
    "\n",
    "z=np.fix([-2.56,3.4,5.66])\n",
    "print(z)\n",
    "print(type(z))\n",
    "\n"
   ]
  },
  {
   "cell_type": "code",
   "execution_count": 472,
   "id": "adc64797",
   "metadata": {},
   "outputs": [
    {
     "name": "stdout",
     "output_type": "stream",
     "text": [
      "[  2.   6. 223.]\n"
     ]
    }
   ],
   "source": [
    "# rounding-around()\n",
    "\n",
    "x=np.around([2.234,5.788,223.003])\n",
    "print(x)"
   ]
  },
  {
   "cell_type": "code",
   "execution_count": 474,
   "id": "a3c01ac8",
   "metadata": {},
   "outputs": [
    {
     "name": "stdout",
     "output_type": "stream",
     "text": [
      "[   2.   -6. -224.]\n"
     ]
    }
   ],
   "source": [
    "#floor-floor()\n",
    "\n",
    "x=np.floor([2.234,-5.788,-223.003])\n",
    "print(x)"
   ]
  },
  {
   "cell_type": "code",
   "execution_count": 477,
   "id": "00b28b69",
   "metadata": {},
   "outputs": [
    {
     "name": "stdout",
     "output_type": "stream",
     "text": [
      "[  -2.    6. -223.]\n"
     ]
    }
   ],
   "source": [
    "# ceil\n",
    "\n",
    "x=np.ceil([-2.234,5.788,-223.003])\n",
    "print(x)"
   ]
  },
  {
   "cell_type": "code",
   "execution_count": null,
   "id": "eab8a8de",
   "metadata": {},
   "outputs": [],
   "source": []
  }
 ],
 "metadata": {
  "kernelspec": {
   "display_name": "Python 3 (ipykernel)",
   "language": "python",
   "name": "python3"
  },
  "language_info": {
   "codemirror_mode": {
    "name": "ipython",
    "version": 3
   },
   "file_extension": ".py",
   "mimetype": "text/x-python",
   "name": "python",
   "nbconvert_exporter": "python",
   "pygments_lexer": "ipython3",
   "version": "3.9.13"
  }
 },
 "nbformat": 4,
 "nbformat_minor": 5
}
